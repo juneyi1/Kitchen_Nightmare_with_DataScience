{
 "cells": [
  {
   "cell_type": "markdown",
   "metadata": {},
   "source": [
    "# Load from canonical restaurant data"
   ]
  },
  {
   "cell_type": "code",
   "execution_count": 26,
   "metadata": {
    "collapsed": true
   },
   "outputs": [],
   "source": [
    "import pandas as pd\n",
    "import numpy as np\n",
    "from os import listdir\n",
    "from os.path import isfile, join"
   ]
  },
  {
   "cell_type": "code",
   "execution_count": 27,
   "metadata": {},
   "outputs": [
    {
     "data": {
      "text/plain": [
       "['CanonicalRestaurants.csv', 'CanonicalSummary.csv', 'ClosedRestaurants.csv']"
      ]
     },
     "execution_count": 27,
     "metadata": {},
     "output_type": "execute_result"
    }
   ],
   "source": [
    "files = [f for f in listdir('./') if '.csv' in f]\n",
    "files"
   ]
  },
  {
   "cell_type": "code",
   "execution_count": 36,
   "metadata": {
    "collapsed": true
   },
   "outputs": [],
   "source": [
    "df = pd.read_csv('./CanonicalRestaurants.csv')"
   ]
  },
  {
   "cell_type": "code",
   "execution_count": 37,
   "metadata": {},
   "outputs": [
    {
     "data": {
      "text/plain": [
       "Index(['address', 'category', 'claimed_status', 'compound', 'date',\n",
       "       'first_review', 'health_rating', 'id', 'info', 'last_review',\n",
       "       'latitude', 'longitude', 'name', 'negative', 'neighborhood', 'neutral',\n",
       "       'permanently_closed', 'phone', 'positive', 'price_range', 'ratings',\n",
       "       'ratings_histogram', 'reviews', 'star', 'subjectivity', 'url',\n",
       "       'website', 'working_hours'],\n",
       "      dtype='object')"
      ]
     },
     "execution_count": 37,
     "metadata": {},
     "output_type": "execute_result"
    }
   ],
   "source": [
    "df.columns"
   ]
  },
  {
   "cell_type": "code",
   "execution_count": 38,
   "metadata": {},
   "outputs": [
    {
     "data": {
      "text/plain": [
       "(484650, 28)"
      ]
     },
     "execution_count": 38,
     "metadata": {},
     "output_type": "execute_result"
    }
   ],
   "source": [
    "df.shape"
   ]
  },
  {
   "cell_type": "code",
   "execution_count": 39,
   "metadata": {
    "collapsed": true
   },
   "outputs": [],
   "source": [
    "df['Claimed?'] = df['claimed_status'].apply(lambda x: 1 if str(x) == 'Claimed' else 0)\n",
    "df['HasWebsite'] = df['website'].apply(lambda x: 1 if 'http' in str(x) else 0)"
   ]
  },
  {
   "cell_type": "code",
   "execution_count": 40,
   "metadata": {},
   "outputs": [],
   "source": [
    "droplist = ['working_hours', 'health_rating', 'phone', 'url', 'claimed_status', \n",
    "            'website', 'address', 'longitude', 'latitude', 'reviews', \n",
    "            'date', 'star', 'subjectivity', 'negative', 'neutral', 'positive', 'compound']\n",
    "df.drop(droplist, inplace=True, axis=1)"
   ]
  },
  {
   "cell_type": "code",
   "execution_count": 41,
   "metadata": {},
   "outputs": [
    {
     "data": {
      "text/plain": [
       "(484609, 13)"
      ]
     },
     "execution_count": 41,
     "metadata": {},
     "output_type": "execute_result"
    }
   ],
   "source": [
    "df = df[(df['last_review'] != 'MISSING') & (df['first_review'] != 'MISSING')].copy()\n",
    "df.shape"
   ]
  },
  {
   "cell_type": "code",
   "execution_count": 42,
   "metadata": {
    "scrolled": true
   },
   "outputs": [
    {
     "name": "stdout",
     "output_type": "stream",
     "text": [
      "<class 'pandas.core.frame.DataFrame'>\n",
      "Int64Index: 484609 entries, 0 to 484649\n",
      "Data columns (total 13 columns):\n",
      "category              484315 non-null object\n",
      "first_review          484609 non-null object\n",
      "id                    484609 non-null object\n",
      "info                  484609 non-null object\n",
      "last_review           484609 non-null object\n",
      "name                  484609 non-null object\n",
      "neighborhood          482772 non-null object\n",
      "permanently_closed    484609 non-null int64\n",
      "price_range           483514 non-null object\n",
      "ratings               484609 non-null float64\n",
      "ratings_histogram     484609 non-null object\n",
      "Claimed?              484609 non-null int64\n",
      "HasWebsite            484609 non-null int64\n",
      "dtypes: float64(1), int64(3), object(9)\n",
      "memory usage: 51.8+ MB\n"
     ]
    }
   ],
   "source": [
    "df.info()"
   ]
  },
  {
   "cell_type": "code",
   "execution_count": 43,
   "metadata": {
    "collapsed": true
   },
   "outputs": [],
   "source": [
    "#df['date'] =  pd.to_datetime(df['date'])\n",
    "df['last_review'] =  pd.to_datetime(df['last_review'])\n",
    "df['first_review'] =  pd.to_datetime(df['first_review'])"
   ]
  },
  {
   "cell_type": "markdown",
   "metadata": {},
   "source": [
    "# Remove closed restaurants that have last review earlier than 2012/01/01"
   ]
  },
  {
   "cell_type": "code",
   "execution_count": 44,
   "metadata": {
    "collapsed": true
   },
   "outputs": [],
   "source": [
    "import datetime\n",
    "cut_day = datetime.date(2012, 1, 1)"
   ]
  },
  {
   "cell_type": "code",
   "execution_count": 45,
   "metadata": {
    "collapsed": true
   },
   "outputs": [],
   "source": [
    "mask = (df['permanently_closed'] == 1) & (df['last_review'] < cut_day)\n",
    "cut_df = df[~mask].copy()"
   ]
  },
  {
   "cell_type": "code",
   "execution_count": 46,
   "metadata": {},
   "outputs": [
    {
     "data": {
      "text/html": [
       "<div>\n",
       "<style>\n",
       "    .dataframe thead tr:only-child th {\n",
       "        text-align: right;\n",
       "    }\n",
       "\n",
       "    .dataframe thead th {\n",
       "        text-align: left;\n",
       "    }\n",
       "\n",
       "    .dataframe tbody tr th {\n",
       "        vertical-align: top;\n",
       "    }\n",
       "</style>\n",
       "<table border=\"1\" class=\"dataframe\">\n",
       "  <thead>\n",
       "    <tr style=\"text-align: right;\">\n",
       "      <th></th>\n",
       "      <th>category</th>\n",
       "      <th>first_review</th>\n",
       "      <th>id</th>\n",
       "      <th>info</th>\n",
       "      <th>last_review</th>\n",
       "      <th>name</th>\n",
       "      <th>neighborhood</th>\n",
       "      <th>permanently_closed</th>\n",
       "      <th>price_range</th>\n",
       "      <th>ratings</th>\n",
       "      <th>ratings_histogram</th>\n",
       "      <th>Claimed?</th>\n",
       "      <th>HasWebsite</th>\n",
       "    </tr>\n",
       "  </thead>\n",
       "  <tbody>\n",
       "    <tr>\n",
       "      <th>0</th>\n",
       "      <td>Breakfast &amp; Brunch,American (Traditional)</td>\n",
       "      <td>2011-10-08</td>\n",
       "      <td>0_2-sparrows</td>\n",
       "      <td>[{'Takes Reservations': 'No'}, {'Delivery': 'N...</td>\n",
       "      <td>2015-02-02</td>\n",
       "      <td>2 Sparrows</td>\n",
       "      <td>Lincoln Park</td>\n",
       "      <td>1</td>\n",
       "      <td>$11-30</td>\n",
       "      <td>3.0</td>\n",
       "      <td>[{5: 63}, {4: 94}, {3: 67}, {2: 78}, {1: 34}]</td>\n",
       "      <td>1</td>\n",
       "      <td>1</td>\n",
       "    </tr>\n",
       "    <tr>\n",
       "      <th>1</th>\n",
       "      <td>Breakfast &amp; Brunch,American (Traditional)</td>\n",
       "      <td>2011-10-08</td>\n",
       "      <td>0_2-sparrows</td>\n",
       "      <td>[{'Takes Reservations': 'No'}, {'Delivery': 'N...</td>\n",
       "      <td>2015-02-02</td>\n",
       "      <td>2 Sparrows</td>\n",
       "      <td>Lincoln Park</td>\n",
       "      <td>1</td>\n",
       "      <td>$11-30</td>\n",
       "      <td>3.0</td>\n",
       "      <td>[{5: 63}, {4: 94}, {3: 67}, {2: 78}, {1: 34}]</td>\n",
       "      <td>1</td>\n",
       "      <td>1</td>\n",
       "    </tr>\n",
       "    <tr>\n",
       "      <th>2</th>\n",
       "      <td>Breakfast &amp; Brunch,American (Traditional)</td>\n",
       "      <td>2011-10-08</td>\n",
       "      <td>0_2-sparrows</td>\n",
       "      <td>[{'Takes Reservations': 'No'}, {'Delivery': 'N...</td>\n",
       "      <td>2015-02-02</td>\n",
       "      <td>2 Sparrows</td>\n",
       "      <td>Lincoln Park</td>\n",
       "      <td>1</td>\n",
       "      <td>$11-30</td>\n",
       "      <td>3.0</td>\n",
       "      <td>[{5: 63}, {4: 94}, {3: 67}, {2: 78}, {1: 34}]</td>\n",
       "      <td>1</td>\n",
       "      <td>1</td>\n",
       "    </tr>\n",
       "    <tr>\n",
       "      <th>3</th>\n",
       "      <td>Breakfast &amp; Brunch,American (Traditional)</td>\n",
       "      <td>2011-10-08</td>\n",
       "      <td>0_2-sparrows</td>\n",
       "      <td>[{'Takes Reservations': 'No'}, {'Delivery': 'N...</td>\n",
       "      <td>2015-02-02</td>\n",
       "      <td>2 Sparrows</td>\n",
       "      <td>Lincoln Park</td>\n",
       "      <td>1</td>\n",
       "      <td>$11-30</td>\n",
       "      <td>3.0</td>\n",
       "      <td>[{5: 63}, {4: 94}, {3: 67}, {2: 78}, {1: 34}]</td>\n",
       "      <td>1</td>\n",
       "      <td>1</td>\n",
       "    </tr>\n",
       "    <tr>\n",
       "      <th>4</th>\n",
       "      <td>Breakfast &amp; Brunch,American (Traditional)</td>\n",
       "      <td>2011-10-08</td>\n",
       "      <td>0_2-sparrows</td>\n",
       "      <td>[{'Takes Reservations': 'No'}, {'Delivery': 'N...</td>\n",
       "      <td>2015-02-02</td>\n",
       "      <td>2 Sparrows</td>\n",
       "      <td>Lincoln Park</td>\n",
       "      <td>1</td>\n",
       "      <td>$11-30</td>\n",
       "      <td>3.0</td>\n",
       "      <td>[{5: 63}, {4: 94}, {3: 67}, {2: 78}, {1: 34}]</td>\n",
       "      <td>1</td>\n",
       "      <td>1</td>\n",
       "    </tr>\n",
       "  </tbody>\n",
       "</table>\n",
       "</div>"
      ],
      "text/plain": [
       "                                    category first_review            id  \\\n",
       "0  Breakfast & Brunch,American (Traditional)   2011-10-08  0_2-sparrows   \n",
       "1  Breakfast & Brunch,American (Traditional)   2011-10-08  0_2-sparrows   \n",
       "2  Breakfast & Brunch,American (Traditional)   2011-10-08  0_2-sparrows   \n",
       "3  Breakfast & Brunch,American (Traditional)   2011-10-08  0_2-sparrows   \n",
       "4  Breakfast & Brunch,American (Traditional)   2011-10-08  0_2-sparrows   \n",
       "\n",
       "                                                info last_review        name  \\\n",
       "0  [{'Takes Reservations': 'No'}, {'Delivery': 'N...  2015-02-02  2 Sparrows   \n",
       "1  [{'Takes Reservations': 'No'}, {'Delivery': 'N...  2015-02-02  2 Sparrows   \n",
       "2  [{'Takes Reservations': 'No'}, {'Delivery': 'N...  2015-02-02  2 Sparrows   \n",
       "3  [{'Takes Reservations': 'No'}, {'Delivery': 'N...  2015-02-02  2 Sparrows   \n",
       "4  [{'Takes Reservations': 'No'}, {'Delivery': 'N...  2015-02-02  2 Sparrows   \n",
       "\n",
       "   neighborhood  permanently_closed price_range  ratings  \\\n",
       "0  Lincoln Park                   1      $11-30      3.0   \n",
       "1  Lincoln Park                   1      $11-30      3.0   \n",
       "2  Lincoln Park                   1      $11-30      3.0   \n",
       "3  Lincoln Park                   1      $11-30      3.0   \n",
       "4  Lincoln Park                   1      $11-30      3.0   \n",
       "\n",
       "                               ratings_histogram  Claimed?  HasWebsite  \n",
       "0  [{5: 63}, {4: 94}, {3: 67}, {2: 78}, {1: 34}]         1           1  \n",
       "1  [{5: 63}, {4: 94}, {3: 67}, {2: 78}, {1: 34}]         1           1  \n",
       "2  [{5: 63}, {4: 94}, {3: 67}, {2: 78}, {1: 34}]         1           1  \n",
       "3  [{5: 63}, {4: 94}, {3: 67}, {2: 78}, {1: 34}]         1           1  \n",
       "4  [{5: 63}, {4: 94}, {3: 67}, {2: 78}, {1: 34}]         1           1  "
      ]
     },
     "execution_count": 46,
     "metadata": {},
     "output_type": "execute_result"
    }
   ],
   "source": [
    "cut_df.head()"
   ]
  },
  {
   "cell_type": "code",
   "execution_count": 47,
   "metadata": {},
   "outputs": [
    {
     "data": {
      "text/plain": [
       "(476583, 13)"
      ]
     },
     "execution_count": 47,
     "metadata": {},
     "output_type": "execute_result"
    }
   ],
   "source": [
    "cut_df.shape"
   ]
  },
  {
   "cell_type": "markdown",
   "metadata": {},
   "source": [
    "# Collapse the cononical data to one restaurant per row"
   ]
  },
  {
   "cell_type": "code",
   "execution_count": 48,
   "metadata": {},
   "outputs": [
    {
     "data": {
      "text/plain": [
       "(1152, 13)"
      ]
     },
     "execution_count": 48,
     "metadata": {},
     "output_type": "execute_result"
    }
   ],
   "source": [
    "cut_df.drop_duplicates(inplace=True)\n",
    "cut_df.shape"
   ]
  },
  {
   "cell_type": "markdown",
   "metadata": {},
   "source": [
    "# Baseline"
   ]
  },
  {
   "cell_type": "code",
   "execution_count": 49,
   "metadata": {
    "scrolled": true
   },
   "outputs": [
    {
     "data": {
      "text/plain": [
       "0    849\n",
       "1    303\n",
       "Name: permanently_closed, dtype: int64"
      ]
     },
     "execution_count": 49,
     "metadata": {},
     "output_type": "execute_result"
    }
   ],
   "source": [
    "cut_df['permanently_closed'].value_counts()"
   ]
  },
  {
   "cell_type": "code",
   "execution_count": 50,
   "metadata": {},
   "outputs": [
    {
     "name": "stdout",
     "output_type": "stream",
     "text": [
      "<class 'pandas.core.frame.DataFrame'>\n",
      "Int64Index: 1152 entries, 0 to 484577\n",
      "Data columns (total 13 columns):\n",
      "category              1150 non-null object\n",
      "first_review          1152 non-null datetime64[ns]\n",
      "id                    1152 non-null object\n",
      "info                  1152 non-null object\n",
      "last_review           1152 non-null datetime64[ns]\n",
      "name                  1152 non-null object\n",
      "neighborhood          1141 non-null object\n",
      "permanently_closed    1152 non-null int64\n",
      "price_range           1127 non-null object\n",
      "ratings               1152 non-null float64\n",
      "ratings_histogram     1152 non-null object\n",
      "Claimed?              1152 non-null int64\n",
      "HasWebsite            1152 non-null int64\n",
      "dtypes: datetime64[ns](2), float64(1), int64(3), object(7)\n",
      "memory usage: 126.0+ KB\n"
     ]
    }
   ],
   "source": [
    "cut_df.info()"
   ]
  },
  {
   "cell_type": "code",
   "execution_count": 51,
   "metadata": {
    "collapsed": true
   },
   "outputs": [],
   "source": [
    "closed = cut_df[cut_df['permanently_closed'] == 1].copy()\n",
    "opened = cut_df[cut_df['permanently_closed'] == 0].copy()"
   ]
  },
  {
   "cell_type": "code",
   "execution_count": 52,
   "metadata": {},
   "outputs": [
    {
     "data": {
      "text/plain": [
       "$11-30         167\n",
       "$31-60          76\n",
       "Under $10       23\n",
       "Above $61       12\n",
       "Moderate        11\n",
       "Inexpensive      4\n",
       "Pricey           2\n",
       "Name: price_range, dtype: int64"
      ]
     },
     "execution_count": 52,
     "metadata": {},
     "output_type": "execute_result"
    }
   ],
   "source": [
    "closed['price_range'].value_counts()"
   ]
  }
 ],
 "metadata": {
  "kernelspec": {
   "display_name": "Python 3",
   "language": "python",
   "name": "python3"
  },
  "language_info": {
   "codemirror_mode": {
    "name": "ipython",
    "version": 3
   },
   "file_extension": ".py",
   "mimetype": "text/x-python",
   "name": "python",
   "nbconvert_exporter": "python",
   "pygments_lexer": "ipython3",
   "version": "3.6.1"
  }
 },
 "nbformat": 4,
 "nbformat_minor": 2
}
