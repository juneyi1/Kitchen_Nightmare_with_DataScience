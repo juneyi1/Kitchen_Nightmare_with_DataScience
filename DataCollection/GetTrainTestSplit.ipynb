{
 "cells": [
  {
   "cell_type": "markdown",
   "metadata": {},
   "source": [
    "# Load from canonical restaurant data"
   ]
  },
  {
   "cell_type": "code",
   "execution_count": 644,
   "metadata": {
    "collapsed": true
   },
   "outputs": [],
   "source": [
    "import pandas as pd\n",
    "import numpy as np\n",
    "from os import listdir\n",
    "from os.path import isfile, join"
   ]
  },
  {
   "cell_type": "code",
   "execution_count": 645,
   "metadata": {},
   "outputs": [
    {
     "data": {
      "text/plain": [
       "['CanonicalRestaurants.csv', 'CanonicalSummary.csv', 'ClosedRestaurants.csv']"
      ]
     },
     "execution_count": 645,
     "metadata": {},
     "output_type": "execute_result"
    }
   ],
   "source": [
    "files = [f for f in listdir('./') if '.csv' in f]\n",
    "files"
   ]
  },
  {
   "cell_type": "code",
   "execution_count": 646,
   "metadata": {
    "collapsed": true
   },
   "outputs": [],
   "source": [
    "df = pd.read_csv('./CanonicalRestaurants.csv')"
   ]
  },
  {
   "cell_type": "code",
   "execution_count": 647,
   "metadata": {},
   "outputs": [
    {
     "data": {
      "text/plain": [
       "Index(['address', 'category', 'claimed_status', 'compound', 'date',\n",
       "       'first_review', 'health_rating', 'id', 'info', 'last_review',\n",
       "       'latitude', 'longitude', 'name', 'negative', 'neighborhood', 'neutral',\n",
       "       'permanently_closed', 'phone', 'positive', 'price_range', 'ratings',\n",
       "       'ratings_histogram', 'reviews', 'star', 'subjectivity', 'url',\n",
       "       'website', 'working_hours'],\n",
       "      dtype='object')"
      ]
     },
     "execution_count": 647,
     "metadata": {},
     "output_type": "execute_result"
    }
   ],
   "source": [
    "df.columns"
   ]
  },
  {
   "cell_type": "code",
   "execution_count": 648,
   "metadata": {},
   "outputs": [
    {
     "data": {
      "text/plain": [
       "(484650, 28)"
      ]
     },
     "execution_count": 648,
     "metadata": {},
     "output_type": "execute_result"
    }
   ],
   "source": [
    "df.shape"
   ]
  },
  {
   "cell_type": "code",
   "execution_count": 649,
   "metadata": {
    "collapsed": true
   },
   "outputs": [],
   "source": [
    "df['Claimed?'] = df['claimed_status'].apply(lambda x: 1 if str(x) == 'Claimed' else 0)\n",
    "df['HasWebsite'] = df['website'].apply(lambda x: 1 if 'http' in str(x) else 0)"
   ]
  },
  {
   "cell_type": "code",
   "execution_count": 650,
   "metadata": {
    "collapsed": true
   },
   "outputs": [],
   "source": [
    "droplist = ['working_hours', 'health_rating', 'phone', 'url', 'claimed_status', \n",
    "            'website', 'address', 'longitude', 'latitude']\n",
    "df.drop(droplist, inplace=True, axis=1)"
   ]
  },
  {
   "cell_type": "code",
   "execution_count": 651,
   "metadata": {},
   "outputs": [
    {
     "data": {
      "text/plain": [
       "(484609, 21)"
      ]
     },
     "execution_count": 651,
     "metadata": {},
     "output_type": "execute_result"
    }
   ],
   "source": [
    "df = df[(df['last_review'] != 'MISSING') & (df['first_review'] != 'MISSING')].copy()\n",
    "df.shape"
   ]
  },
  {
   "cell_type": "code",
   "execution_count": 652,
   "metadata": {
    "scrolled": true
   },
   "outputs": [
    {
     "name": "stdout",
     "output_type": "stream",
     "text": [
      "<class 'pandas.core.frame.DataFrame'>\n",
      "Int64Index: 484609 entries, 0 to 484649\n",
      "Data columns (total 21 columns):\n",
      "category              484315 non-null object\n",
      "compound              484609 non-null float64\n",
      "date                  484609 non-null object\n",
      "first_review          484609 non-null object\n",
      "id                    484609 non-null object\n",
      "info                  484609 non-null object\n",
      "last_review           484609 non-null object\n",
      "name                  484609 non-null object\n",
      "negative              484609 non-null float64\n",
      "neighborhood          482772 non-null object\n",
      "neutral               484609 non-null float64\n",
      "permanently_closed    484609 non-null int64\n",
      "positive              484609 non-null float64\n",
      "price_range           483514 non-null object\n",
      "ratings               484609 non-null float64\n",
      "ratings_histogram     484609 non-null object\n",
      "reviews               484609 non-null float64\n",
      "star                  484609 non-null float64\n",
      "subjectivity          484609 non-null float64\n",
      "Claimed?              484609 non-null int64\n",
      "HasWebsite            484609 non-null int64\n",
      "dtypes: float64(8), int64(3), object(10)\n",
      "memory usage: 81.3+ MB\n"
     ]
    }
   ],
   "source": [
    "df.info()"
   ]
  },
  {
   "cell_type": "code",
   "execution_count": 653,
   "metadata": {
    "collapsed": true
   },
   "outputs": [],
   "source": [
    "df['date'] =  pd.to_datetime(df['date'])\n",
    "df['last_review'] =  pd.to_datetime(df['last_review'])\n",
    "df['first_review'] =  pd.to_datetime(df['first_review'])"
   ]
  },
  {
   "cell_type": "markdown",
   "metadata": {},
   "source": [
    "# Remove closed restaurants that have last review earlier than 2012/01/01"
   ]
  },
  {
   "cell_type": "code",
   "execution_count": 654,
   "metadata": {
    "collapsed": true
   },
   "outputs": [],
   "source": [
    "import datetime\n",
    "cut_day = datetime.date(2012, 1, 1)"
   ]
  },
  {
   "cell_type": "code",
   "execution_count": 655,
   "metadata": {
    "collapsed": true
   },
   "outputs": [],
   "source": [
    "mask = (df['permanently_closed'] == 1) & (df['last_review'] < cut_day)\n",
    "cut_df = df[~mask].copy()"
   ]
  },
  {
   "cell_type": "code",
   "execution_count": 656,
   "metadata": {},
   "outputs": [
    {
     "data": {
      "text/html": [
       "<div>\n",
       "<style>\n",
       "    .dataframe thead tr:only-child th {\n",
       "        text-align: right;\n",
       "    }\n",
       "\n",
       "    .dataframe thead th {\n",
       "        text-align: left;\n",
       "    }\n",
       "\n",
       "    .dataframe tbody tr th {\n",
       "        vertical-align: top;\n",
       "    }\n",
       "</style>\n",
       "<table border=\"1\" class=\"dataframe\">\n",
       "  <thead>\n",
       "    <tr style=\"text-align: right;\">\n",
       "      <th></th>\n",
       "      <th>category</th>\n",
       "      <th>compound</th>\n",
       "      <th>date</th>\n",
       "      <th>first_review</th>\n",
       "      <th>id</th>\n",
       "      <th>info</th>\n",
       "      <th>last_review</th>\n",
       "      <th>name</th>\n",
       "      <th>negative</th>\n",
       "      <th>neighborhood</th>\n",
       "      <th>...</th>\n",
       "      <th>permanently_closed</th>\n",
       "      <th>positive</th>\n",
       "      <th>price_range</th>\n",
       "      <th>ratings</th>\n",
       "      <th>ratings_histogram</th>\n",
       "      <th>reviews</th>\n",
       "      <th>star</th>\n",
       "      <th>subjectivity</th>\n",
       "      <th>Claimed?</th>\n",
       "      <th>HasWebsite</th>\n",
       "    </tr>\n",
       "  </thead>\n",
       "  <tbody>\n",
       "    <tr>\n",
       "      <th>0</th>\n",
       "      <td>Breakfast &amp; Brunch,American (Traditional)</td>\n",
       "      <td>0.9655</td>\n",
       "      <td>2015-02-02</td>\n",
       "      <td>2011-10-08</td>\n",
       "      <td>0_2-sparrows</td>\n",
       "      <td>[{'Takes Reservations': 'No'}, {'Delivery': 'N...</td>\n",
       "      <td>2015-02-02</td>\n",
       "      <td>2 Sparrows</td>\n",
       "      <td>0.104</td>\n",
       "      <td>Lincoln Park</td>\n",
       "      <td>...</td>\n",
       "      <td>1</td>\n",
       "      <td>0.295</td>\n",
       "      <td>$11-30</td>\n",
       "      <td>3.0</td>\n",
       "      <td>[{5: 63}, {4: 94}, {3: 67}, {2: 78}, {1: 34}]</td>\n",
       "      <td>336.0</td>\n",
       "      <td>3.0</td>\n",
       "      <td>0.576190</td>\n",
       "      <td>1</td>\n",
       "      <td>1</td>\n",
       "    </tr>\n",
       "    <tr>\n",
       "      <th>1</th>\n",
       "      <td>Breakfast &amp; Brunch,American (Traditional)</td>\n",
       "      <td>0.0926</td>\n",
       "      <td>2014-12-04</td>\n",
       "      <td>2011-10-08</td>\n",
       "      <td>0_2-sparrows</td>\n",
       "      <td>[{'Takes Reservations': 'No'}, {'Delivery': 'N...</td>\n",
       "      <td>2015-02-02</td>\n",
       "      <td>2 Sparrows</td>\n",
       "      <td>0.131</td>\n",
       "      <td>Lincoln Park</td>\n",
       "      <td>...</td>\n",
       "      <td>1</td>\n",
       "      <td>0.111</td>\n",
       "      <td>$11-30</td>\n",
       "      <td>3.0</td>\n",
       "      <td>[{5: 63}, {4: 94}, {3: 67}, {2: 78}, {1: 34}]</td>\n",
       "      <td>336.0</td>\n",
       "      <td>5.0</td>\n",
       "      <td>0.400000</td>\n",
       "      <td>1</td>\n",
       "      <td>1</td>\n",
       "    </tr>\n",
       "    <tr>\n",
       "      <th>2</th>\n",
       "      <td>Breakfast &amp; Brunch,American (Traditional)</td>\n",
       "      <td>-0.6532</td>\n",
       "      <td>2014-10-07</td>\n",
       "      <td>2011-10-08</td>\n",
       "      <td>0_2-sparrows</td>\n",
       "      <td>[{'Takes Reservations': 'No'}, {'Delivery': 'N...</td>\n",
       "      <td>2015-02-02</td>\n",
       "      <td>2 Sparrows</td>\n",
       "      <td>0.132</td>\n",
       "      <td>Lincoln Park</td>\n",
       "      <td>...</td>\n",
       "      <td>1</td>\n",
       "      <td>0.064</td>\n",
       "      <td>$11-30</td>\n",
       "      <td>3.0</td>\n",
       "      <td>[{5: 63}, {4: 94}, {3: 67}, {2: 78}, {1: 34}]</td>\n",
       "      <td>336.0</td>\n",
       "      <td>3.0</td>\n",
       "      <td>0.629167</td>\n",
       "      <td>1</td>\n",
       "      <td>1</td>\n",
       "    </tr>\n",
       "    <tr>\n",
       "      <th>3</th>\n",
       "      <td>Breakfast &amp; Brunch,American (Traditional)</td>\n",
       "      <td>0.9852</td>\n",
       "      <td>2014-09-25</td>\n",
       "      <td>2011-10-08</td>\n",
       "      <td>0_2-sparrows</td>\n",
       "      <td>[{'Takes Reservations': 'No'}, {'Delivery': 'N...</td>\n",
       "      <td>2015-02-02</td>\n",
       "      <td>2 Sparrows</td>\n",
       "      <td>0.057</td>\n",
       "      <td>Lincoln Park</td>\n",
       "      <td>...</td>\n",
       "      <td>1</td>\n",
       "      <td>0.144</td>\n",
       "      <td>$11-30</td>\n",
       "      <td>3.0</td>\n",
       "      <td>[{5: 63}, {4: 94}, {3: 67}, {2: 78}, {1: 34}]</td>\n",
       "      <td>336.0</td>\n",
       "      <td>4.0</td>\n",
       "      <td>0.520476</td>\n",
       "      <td>1</td>\n",
       "      <td>1</td>\n",
       "    </tr>\n",
       "    <tr>\n",
       "      <th>4</th>\n",
       "      <td>Breakfast &amp; Brunch,American (Traditional)</td>\n",
       "      <td>0.9730</td>\n",
       "      <td>2014-09-23</td>\n",
       "      <td>2011-10-08</td>\n",
       "      <td>0_2-sparrows</td>\n",
       "      <td>[{'Takes Reservations': 'No'}, {'Delivery': 'N...</td>\n",
       "      <td>2015-02-02</td>\n",
       "      <td>2 Sparrows</td>\n",
       "      <td>0.067</td>\n",
       "      <td>Lincoln Park</td>\n",
       "      <td>...</td>\n",
       "      <td>1</td>\n",
       "      <td>0.189</td>\n",
       "      <td>$11-30</td>\n",
       "      <td>3.0</td>\n",
       "      <td>[{5: 63}, {4: 94}, {3: 67}, {2: 78}, {1: 34}]</td>\n",
       "      <td>336.0</td>\n",
       "      <td>3.0</td>\n",
       "      <td>0.597000</td>\n",
       "      <td>1</td>\n",
       "      <td>1</td>\n",
       "    </tr>\n",
       "  </tbody>\n",
       "</table>\n",
       "<p>5 rows × 21 columns</p>\n",
       "</div>"
      ],
      "text/plain": [
       "                                    category  compound       date  \\\n",
       "0  Breakfast & Brunch,American (Traditional)    0.9655 2015-02-02   \n",
       "1  Breakfast & Brunch,American (Traditional)    0.0926 2014-12-04   \n",
       "2  Breakfast & Brunch,American (Traditional)   -0.6532 2014-10-07   \n",
       "3  Breakfast & Brunch,American (Traditional)    0.9852 2014-09-25   \n",
       "4  Breakfast & Brunch,American (Traditional)    0.9730 2014-09-23   \n",
       "\n",
       "  first_review            id  \\\n",
       "0   2011-10-08  0_2-sparrows   \n",
       "1   2011-10-08  0_2-sparrows   \n",
       "2   2011-10-08  0_2-sparrows   \n",
       "3   2011-10-08  0_2-sparrows   \n",
       "4   2011-10-08  0_2-sparrows   \n",
       "\n",
       "                                                info last_review        name  \\\n",
       "0  [{'Takes Reservations': 'No'}, {'Delivery': 'N...  2015-02-02  2 Sparrows   \n",
       "1  [{'Takes Reservations': 'No'}, {'Delivery': 'N...  2015-02-02  2 Sparrows   \n",
       "2  [{'Takes Reservations': 'No'}, {'Delivery': 'N...  2015-02-02  2 Sparrows   \n",
       "3  [{'Takes Reservations': 'No'}, {'Delivery': 'N...  2015-02-02  2 Sparrows   \n",
       "4  [{'Takes Reservations': 'No'}, {'Delivery': 'N...  2015-02-02  2 Sparrows   \n",
       "\n",
       "   negative  neighborhood     ...      permanently_closed  positive  \\\n",
       "0     0.104  Lincoln Park     ...                       1     0.295   \n",
       "1     0.131  Lincoln Park     ...                       1     0.111   \n",
       "2     0.132  Lincoln Park     ...                       1     0.064   \n",
       "3     0.057  Lincoln Park     ...                       1     0.144   \n",
       "4     0.067  Lincoln Park     ...                       1     0.189   \n",
       "\n",
       "   price_range ratings                              ratings_histogram reviews  \\\n",
       "0       $11-30     3.0  [{5: 63}, {4: 94}, {3: 67}, {2: 78}, {1: 34}]   336.0   \n",
       "1       $11-30     3.0  [{5: 63}, {4: 94}, {3: 67}, {2: 78}, {1: 34}]   336.0   \n",
       "2       $11-30     3.0  [{5: 63}, {4: 94}, {3: 67}, {2: 78}, {1: 34}]   336.0   \n",
       "3       $11-30     3.0  [{5: 63}, {4: 94}, {3: 67}, {2: 78}, {1: 34}]   336.0   \n",
       "4       $11-30     3.0  [{5: 63}, {4: 94}, {3: 67}, {2: 78}, {1: 34}]   336.0   \n",
       "\n",
       "   star  subjectivity  Claimed?  HasWebsite  \n",
       "0   3.0      0.576190         1           1  \n",
       "1   5.0      0.400000         1           1  \n",
       "2   3.0      0.629167         1           1  \n",
       "3   4.0      0.520476         1           1  \n",
       "4   3.0      0.597000         1           1  \n",
       "\n",
       "[5 rows x 21 columns]"
      ]
     },
     "execution_count": 656,
     "metadata": {},
     "output_type": "execute_result"
    }
   ],
   "source": [
    "cut_df.head()"
   ]
  },
  {
   "cell_type": "code",
   "execution_count": 657,
   "metadata": {},
   "outputs": [
    {
     "data": {
      "text/plain": [
       "(476583, 21)"
      ]
     },
     "execution_count": 657,
     "metadata": {},
     "output_type": "execute_result"
    }
   ],
   "source": [
    "cut_df.shape"
   ]
  },
  {
   "cell_type": "markdown",
   "metadata": {},
   "source": [
    "# Collapse the cononical data to one restaurant per row to do train/test split"
   ]
  },
  {
   "cell_type": "code",
   "execution_count": 658,
   "metadata": {},
   "outputs": [
    {
     "data": {
      "text/plain": [
       "(476583, 2)"
      ]
     },
     "execution_count": 658,
     "metadata": {},
     "output_type": "execute_result"
    }
   ],
   "source": [
    "id_closed = cut_df[['id', 'permanently_closed']].copy()\n",
    "id_closed.shape"
   ]
  },
  {
   "cell_type": "code",
   "execution_count": 659,
   "metadata": {},
   "outputs": [
    {
     "data": {
      "text/plain": [
       "(1152, 2)"
      ]
     },
     "execution_count": 659,
     "metadata": {},
     "output_type": "execute_result"
    }
   ],
   "source": [
    "id_closed.drop_duplicates(inplace=True)\n",
    "id_closed.shape"
   ]
  },
  {
   "cell_type": "markdown",
   "metadata": {},
   "source": [
    "# Baseline"
   ]
  },
  {
   "cell_type": "code",
   "execution_count": 660,
   "metadata": {
    "scrolled": true
   },
   "outputs": [
    {
     "data": {
      "text/plain": [
       "0    849\n",
       "1    303\n",
       "Name: permanently_closed, dtype: int64"
      ]
     },
     "execution_count": 660,
     "metadata": {},
     "output_type": "execute_result"
    }
   ],
   "source": [
    "id_closed['permanently_closed'].value_counts()"
   ]
  },
  {
   "cell_type": "code",
   "execution_count": 661,
   "metadata": {
    "scrolled": true
   },
   "outputs": [
    {
     "data": {
      "text/plain": [
       "76_the-brass-monkey                              1\n",
       "735_dianas-food-and-restaurant-chicago           1\n",
       "318_leos-lunchroom                               1\n",
       "107_shiso                                        1\n",
       "1_hugos-frog-bar-and-fish-house-chicago          1\n",
       "718_bretts-kitchen-chicago                       1\n",
       "1028_primehouse-chicago-2                        1\n",
       "97_ditkas-restaurant-chicago                     1\n",
       "294_marketplace-cafe-chicago-4                   1\n",
       "1230_kikis-bistro-chicago                        1\n",
       "541_west-town-tavern                             1\n",
       "148_birchwood-kitchen                            1\n",
       "108_caliterra                                    1\n",
       "252_agami-chicago                                1\n",
       "277_local-option-chicago                         1\n",
       "370_rios-d-sudamerica-chicago                    1\n",
       "99_pita-express-chicago                          1\n",
       "61_letizias-fiore-ristorante-and-wine-shoppe     1\n",
       "553_zed451                                       1\n",
       "260_in-fine-spirits-lounge                       1\n",
       "1607_lao-sze-chuan-chicago-2                     1\n",
       "16_alberts-place                                 1\n",
       "483_chef-luciano-chicago                         1\n",
       "1583_afghan-kabob-chicago                        1\n",
       "455_cook-au-vin-chicago                          1\n",
       "1590_mrs-murphy-and-sons-irish-bistro-chicago    1\n",
       "1476_catch-35-chicago                            1\n",
       "1085_old-jerusalem-chicago                       1\n",
       "287_wow-bao-chicago-8                            1\n",
       "242_hai-yen                                      1\n",
       "                                                ..\n",
       "984_opart-thai-house-chicago                     1\n",
       "741_manee-thai-restaurant-chicago-2              1\n",
       "442_ripasso                                      1\n",
       "1037_d-amatos-bakery-chicago                     1\n",
       "1641_catch-35-chicago                            1\n",
       "99_cafe-bolero                                   1\n",
       "1385_little-corner-restaurant-chicago            1\n",
       "447_rose-angelis                                 1\n",
       "288_the-wild-hare-chicago                        1\n",
       "560_logan-bar-and-grill-chicago                  1\n",
       "235_bari-chicago                                 1\n",
       "1267_joy-yees-noodle-shop-chicago-2              1\n",
       "91_q-bbq                                         1\n",
       "312_las-tablas                                   1\n",
       "1813_de-cero-chicago-4                           1\n",
       "122_da-rae-jung-chicago                          1\n",
       "85_coalfire-pizza-chicago                        1\n",
       "1849_jimmys-red-hots-chicago                     1\n",
       "73_bobtail-ice-cream-company                     1\n",
       "233_grahamwich                                   1\n",
       "58_justins                                       1\n",
       "997_chicago-stadium-club-chicago                 1\n",
       "715_m-henry-chicago                              1\n",
       "129_bee-and-tea                                  1\n",
       "63_lorettas-bake-shop-and-cafe                   1\n",
       "286_kan-zaman                                    1\n",
       "105_cafe-chien                                   1\n",
       "296_kyoto-sushi-steak-seafood                    1\n",
       "620_the-art-of-pizza-chicago                     1\n",
       "1759_tank-noodle-chicago                         1\n",
       "Name: id, Length: 1152, dtype: int64"
      ]
     },
     "execution_count": 661,
     "metadata": {},
     "output_type": "execute_result"
    }
   ],
   "source": [
    "id_closed['id'].value_counts()"
   ]
  },
  {
   "cell_type": "markdown",
   "metadata": {},
   "source": [
    "# Split data into train/test by restaurant id"
   ]
  },
  {
   "cell_type": "code",
   "execution_count": 662,
   "metadata": {
    "collapsed": true
   },
   "outputs": [],
   "source": [
    "from sklearn.model_selection import train_test_split, StratifiedKFold, KFold\n",
    "id_train, id_test, _, _ = train_test_split(id_closed[['id']], id_closed['permanently_closed'])"
   ]
  },
  {
   "cell_type": "code",
   "execution_count": 663,
   "metadata": {
    "collapsed": true
   },
   "outputs": [],
   "source": [
    "id_train_list = list(id_train['id'])\n",
    "id_test_list = list(id_test['id'])"
   ]
  },
  {
   "cell_type": "markdown",
   "metadata": {},
   "source": [
    "# Functions to extract NLP data with varying block weeks and open weeks"
   ]
  },
  {
   "cell_type": "code",
   "execution_count": 664,
   "metadata": {
    "collapsed": true
   },
   "outputs": [],
   "source": [
    "def GetReviewSummary(df=None, blockweeks=52, openweeks=52, NLPsummary=['star']):\n",
    "    from sklearn.linear_model import LinearRegression\n",
    "    from datetime import timedelta\n",
    "    Dict = {}\n",
    "    df = df.copy()\n",
    "    df['date'] =  pd.to_datetime(df['date'])\n",
    "    df['year'] = df['date'].apply(lambda x: x.year)\n",
    "    blck = timedelta(weeks=blockweeks)\n",
    "    blocktime = df['date'].iloc[0] - blck\n",
    "    new_df = df[df['date'] <= blocktime].copy()\n",
    "    Dict['avg_reviews'] = [float(new_df.shape[0])/(new_df['year'].max() - new_df['year'].min() + 1)]    \n",
    "    Dict['avg_star'] = new_df['star'].mean()\n",
    "    Dict['5_star'] = new_df[new_df['star'] == 5.0].shape[0]\n",
    "    Dict['4_star'] = new_df[new_df['star'] == 4.0].shape[0]\n",
    "    Dict['3_star'] = new_df[new_df['star'] == 3.0].shape[0]\n",
    "    Dict['2_star'] = new_df[new_df['star'] == 2.0].shape[0]\n",
    "    Dict['1_star'] = new_df[new_df['star'] == 1.0].shape[0]\n",
    "    if NLPsummary != None:            \n",
    "        opn = timedelta(weeks=openweeks)        \n",
    "        opentime = blocktime - opn\n",
    "        open_df = new_df[(new_df['date'] >= opentime)].copy()\n",
    "        open_df['days'] = open_df['date'].apply(lambda x: (x - list(open_df['date'])[-1]).days)\n",
    "        for item in NLPsummary:\n",
    "            Dict['AvgLast_'+item] = [open_df[item].mean()]\n",
    "            if open_df.shape[0] >= 2:             \n",
    "                lr = LinearRegression()\n",
    "                lr.fit(open_df[['days']],open_df[item])\n",
    "                Dict['Last_'+item+'_intrcpt'] = [lr.intercept_]\n",
    "                Dict['Last_'+item+'_coef'] = [lr.coef_[0]]\n",
    "            else:\n",
    "                Dict['Last_'+item+'_intrcpt'] = [open_df[item].mean()]\n",
    "                Dict['Last_'+item+'_coef'] = [0.0] \n",
    "    return Dict"
   ]
  },
  {
   "cell_type": "code",
   "execution_count": 665,
   "metadata": {
    "collapsed": true
   },
   "outputs": [],
   "source": [
    "def GetEachSummary(df=None, idname=None, blockweeks=52, openweeks=52, NLPsummary=['star','compound','subjectivity']):\n",
    "    subset = df[df['id']==idname]\n",
    "    row = pd.DataFrame(subset.iloc[0,:]).transpose()\n",
    "    InfoList = ['id', 'name', 'category', 'price_range', 'neighborhood', 'info', 'Claimed?', \n",
    "                'HasWebsite', 'first_review', 'last_review', 'permanently_closed']\n",
    "    Info = row[InfoList]\n",
    "    ReviewList = ['date', 'star', 'compound', 'neutral', 'positive', 'negative', 'subjectivity']\n",
    "    Review = subset[ReviewList]\n",
    "    Summary = GetReviewSummary(df=Review, blockweeks=blockweeks, openweeks=openweeks, NLPsummary=NLPsummary)\n",
    "    Sum_df = pd.DataFrame(Summary, index=[Info.index[0]])\n",
    "    each = Info.join(Sum_df)\n",
    "    return each"
   ]
  },
  {
   "cell_type": "code",
   "execution_count": 666,
   "metadata": {
    "collapsed": true
   },
   "outputs": [],
   "source": [
    "def GetSummarydf(df=None, idlist=None, blockweeks=52, openweeks=52, NLPsummary=['star','compound','subjectivity']):\n",
    "    Summary_df = GetEachSummary(df=df, idname=idlist[0], \n",
    "                                blockweeks=blockweeks, openweeks=openweeks, NLPsummary=NLPsummary)\n",
    "    for i, idname in enumerate(idlist[1:]):\n",
    "        new = GetEachSummary(df=df, idname=idname, \n",
    "                             blockweeks=blockweeks, openweeks=openweeks, NLPsummary=NLPsummary)\n",
    "        Summary_df = Summary_df.append(new, ignore_index=True)     \n",
    "    return Summary_df"
   ]
  },
  {
   "cell_type": "markdown",
   "metadata": {},
   "source": [
    "# Create dictionaries to store train/test dataframes of different block/open weeks combinations\n",
    "- block weeks: 13, 26, 52 weeks\n",
    "- open weeks: 26, 52, 78 weeks\n",
    "- 9 combinations in total"
   ]
  },
  {
   "cell_type": "code",
   "execution_count": 667,
   "metadata": {},
   "outputs": [
    {
     "name": "stdout",
     "output_type": "stream",
     "text": [
      "df_block13_open26\n",
      "df_block13_open52\n",
      "df_block13_open78\n",
      "df_block26_open26\n",
      "df_block26_open52\n",
      "df_block26_open78\n",
      "df_block52_open26\n",
      "df_block52_open52\n",
      "df_block52_open78\n"
     ]
    }
   ],
   "source": [
    "blck = [13, 26, 52]\n",
    "opn = [26, 52, 78]\n",
    "train = {} \n",
    "test = {}\n",
    "for b in blck:\n",
    "    for o in opn:\n",
    "        key = 'df_block' + str(b) + '_open' + str(o)\n",
    "        print(key)\n",
    "        train[key] = GetSummarydf(df=cut_df, idlist=id_train_list, \n",
    "                                  blockweeks=b, openweeks=o, NLPsummary=['star','compound','subjectivity'])\n",
    "        test[key] = GetSummarydf(df=cut_df, idlist=id_test_list, \n",
    "                                 blockweeks=b, openweeks=o, NLPsummary=['star','compound','subjectivity'])"
   ]
  },
  {
   "cell_type": "markdown",
   "metadata": {},
   "source": [
    "# Creat lists of dummy variables for category, neighborhood, and price range"
   ]
  },
  {
   "cell_type": "code",
   "execution_count": 668,
   "metadata": {
    "collapsed": true
   },
   "outputs": [],
   "source": [
    "def GetLabels(df=train['df_block13_open26'], column='category'):\n",
    "    ensumble = []\n",
    "    for line in df[column]:\n",
    "        if type(line) != float:\n",
    "            labels = line.split(',')\n",
    "            for l in labels:\n",
    "                l = l.strip()\n",
    "                if l not in ensumble:\n",
    "                    ensumble.append(l)\n",
    "    return ensumble"
   ]
  },
  {
   "cell_type": "code",
   "execution_count": 669,
   "metadata": {},
   "outputs": [
    {
     "data": {
      "text/plain": [
       "['Brazilian',\n",
       " 'Creperies',\n",
       " 'Sandwiches',\n",
       " 'Breakfast & Brunch',\n",
       " 'Mexican',\n",
       " 'Tex-Mex',\n",
       " 'Pubs',\n",
       " 'American (Traditional)',\n",
       " 'Seafood',\n",
       " 'Modern European',\n",
       " 'American (New)',\n",
       " 'Mediterranean',\n",
       " 'Cuban',\n",
       " 'Smokehouse',\n",
       " 'Tapas Bars',\n",
       " 'Restaurants',\n",
       " 'Pizza',\n",
       " 'Italian',\n",
       " 'Greek',\n",
       " 'Moroccan',\n",
       " 'Bars',\n",
       " 'Coffee & Tea',\n",
       " 'Thai',\n",
       " 'Sushi Bars',\n",
       " 'Diners',\n",
       " 'Juice Bars & Smoothies',\n",
       " 'Indian',\n",
       " 'Pakistani',\n",
       " 'Japanese',\n",
       " 'Lounges',\n",
       " 'Caterers',\n",
       " 'Indonesian',\n",
       " 'Beer',\n",
       " 'Wine & Spirits',\n",
       " 'Delis',\n",
       " 'Asian Fusion',\n",
       " 'Vietnamese',\n",
       " 'Filipino',\n",
       " 'German',\n",
       " 'Burgers',\n",
       " 'Cocktail Bars',\n",
       " 'Hot Dogs',\n",
       " 'Grocery',\n",
       " 'Bakeries',\n",
       " 'Chinese',\n",
       " 'Noodles',\n",
       " 'Gluten-Free',\n",
       " 'Korean',\n",
       " 'Salad',\n",
       " 'Latin American',\n",
       " 'French',\n",
       " 'Cafes',\n",
       " 'Ice Cream & Frozen Yogurt',\n",
       " 'Steakhouses',\n",
       " 'Beer Bar',\n",
       " 'Venues & Event Spaces',\n",
       " 'Fish & Chips',\n",
       " 'Scottish',\n",
       " 'Argentine',\n",
       " 'Comfort Food',\n",
       " 'Vegetarian',\n",
       " 'Polish',\n",
       " 'Sports Bars',\n",
       " 'Wine Bars',\n",
       " 'Gastropubs',\n",
       " 'Jazz & Blues',\n",
       " 'Irish',\n",
       " 'Irish Pub',\n",
       " 'Vegan',\n",
       " 'Middle Eastern',\n",
       " 'Donuts',\n",
       " 'Russian',\n",
       " 'Turkish',\n",
       " 'Ramen',\n",
       " 'Southern',\n",
       " 'Tapas/Small Plates',\n",
       " 'Peruvian',\n",
       " 'Fast Food',\n",
       " 'Buffets',\n",
       " 'Chicken Wings',\n",
       " 'Austrian',\n",
       " 'Puerto Rican',\n",
       " 'Desserts',\n",
       " 'Spanish',\n",
       " 'Beer Gardens',\n",
       " 'Ethiopian',\n",
       " 'Halal',\n",
       " 'Food Stands',\n",
       " 'British',\n",
       " 'Cajun/Creole',\n",
       " 'Music Venues',\n",
       " 'Karaoke',\n",
       " 'Barbeque',\n",
       " 'Belgian',\n",
       " 'Chicken Shop',\n",
       " 'Pool Halls',\n",
       " 'Adult Entertainment',\n",
       " 'Caribbean',\n",
       " 'Scandinavian',\n",
       " 'Dive Bars',\n",
       " 'Dim Sum',\n",
       " 'Cantonese',\n",
       " 'Food Trucks',\n",
       " 'Ukrainian',\n",
       " 'Community Service/Non-Profit',\n",
       " 'Live/Raw Food',\n",
       " 'Colombian',\n",
       " 'Persian/Iranian',\n",
       " 'Nightlife',\n",
       " 'Dance Clubs',\n",
       " 'Fondue',\n",
       " 'Pasta Shops',\n",
       " 'Butcher',\n",
       " 'Soup',\n",
       " 'Breweries',\n",
       " 'Hawaiian',\n",
       " 'Pop-up Shops',\n",
       " 'Basque',\n",
       " 'Szechuan',\n",
       " 'Bagels',\n",
       " 'Himalayan/Nepalese',\n",
       " 'Falafel',\n",
       " 'Shanghainese',\n",
       " 'Soul Food',\n",
       " 'Chocolatiers & Shops',\n",
       " 'Bubble Tea']"
      ]
     },
     "execution_count": 669,
     "metadata": {},
     "output_type": "execute_result"
    }
   ],
   "source": [
    "categories = GetLabels(df=train['df_block13_open26'], column='category')\n",
    "categories"
   ]
  },
  {
   "cell_type": "code",
   "execution_count": 670,
   "metadata": {
    "scrolled": true
   },
   "outputs": [
    {
     "data": {
      "text/plain": [
       "['Near West Side',\n",
       " 'River West',\n",
       " 'Noble Square',\n",
       " 'West Town',\n",
       " 'Near North Side',\n",
       " 'Lincoln Park',\n",
       " 'Irving Park',\n",
       " 'Logan Square',\n",
       " 'Bucktown',\n",
       " 'Near Southside',\n",
       " 'Avondale',\n",
       " 'Andersonville',\n",
       " 'Edgewater',\n",
       " 'Lakeview',\n",
       " 'Old Town',\n",
       " 'West Rogers Park',\n",
       " 'Uptown',\n",
       " 'West Loop',\n",
       " 'River North',\n",
       " 'Humboldt Park',\n",
       " 'DePaul',\n",
       " 'Edison Park',\n",
       " 'The Loop',\n",
       " 'Ravenswood',\n",
       " 'Lincoln Square',\n",
       " 'Pilsen',\n",
       " 'Wicker Park',\n",
       " 'Greektown',\n",
       " 'Chinatown',\n",
       " 'Bridgeport',\n",
       " 'Portage Park',\n",
       " 'River East',\n",
       " 'Roscoe Village',\n",
       " 'North Center',\n",
       " 'University Village',\n",
       " 'Rogers Park',\n",
       " 'Cragin',\n",
       " 'Gold Coast',\n",
       " 'Ukrainian Village',\n",
       " 'Forest Glen',\n",
       " 'Albany Park',\n",
       " 'Garfield Ridge',\n",
       " 'Wrigleyville',\n",
       " 'South Loop',\n",
       " 'Fulton Market',\n",
       " 'Streeterville',\n",
       " \"Printer's Row\",\n",
       " 'East Garfield Park',\n",
       " 'Hermosa',\n",
       " 'Goose Island',\n",
       " 'Little Village']"
      ]
     },
     "execution_count": 670,
     "metadata": {},
     "output_type": "execute_result"
    }
   ],
   "source": [
    "neighborhoods = GetLabels(df=train['df_block13_open26'], column='neighborhood')\n",
    "neighborhoods"
   ]
  },
  {
   "cell_type": "code",
   "execution_count": 671,
   "metadata": {},
   "outputs": [
    {
     "data": {
      "text/plain": [
       "['$11-30',\n",
       " 'Moderate',\n",
       " 'Under $10',\n",
       " '$31-60',\n",
       " 'Inexpensive',\n",
       " 'Above $61',\n",
       " 'Pricey']"
      ]
     },
     "execution_count": 671,
     "metadata": {},
     "output_type": "execute_result"
    }
   ],
   "source": [
    "price_ranges = GetLabels(df=train['df_block13_open26'], column='price_range')\n",
    "price_ranges"
   ]
  },
  {
   "cell_type": "markdown",
   "metadata": {},
   "source": [
    "Drop 'Restaurant', 'Pilsen', and 'Pricey' for category, neighborhood, and price range, respectively"
   ]
  },
  {
   "cell_type": "code",
   "execution_count": 634,
   "metadata": {},
   "outputs": [],
   "source": [
    "#categories.remove('Restaurants')\n",
    "#neighborhoods.remove('Pilsen')\n",
    "#price_ranges.remove('Pricey')"
   ]
  },
  {
   "cell_type": "markdown",
   "metadata": {},
   "source": [
    "# Check values for 'Attire', 'Parking', 'Alcohol', 'Noise Level', and 'Wi-Fi' in info:"
   ]
  },
  {
   "cell_type": "code",
   "execution_count": 672,
   "metadata": {
    "collapsed": true
   },
   "outputs": [],
   "source": [
    "def ColumnParser(info, text=False):\n",
    "    '''Parse info column to a dictionary'''\n",
    "    import re\n",
    "    Dict = {}\n",
    "    if len(info) > 2:\n",
    "        List = re.findall(r\"\\{(.*?)\\}\", info)        \n",
    "        for item in List:  \n",
    "            if text:\n",
    "                key = re.findall(r\"\\'(.*?)\\'\", item)[0]\n",
    "                value = re.findall(r\"\\'(.*?)\\'\", item)[1]\n",
    "            else:\n",
    "                key = item.split(': ')[0]\n",
    "                value = item.split(': ')[1]\n",
    "            Dict[key] = value\n",
    "    return Dict    "
   ]
  },
  {
   "cell_type": "code",
   "execution_count": 673,
   "metadata": {
    "collapsed": true
   },
   "outputs": [],
   "source": [
    "df = train['df_block13_open26'].copy()\n",
    "df['info'] = df['info'].apply(lambda x: ColumnParser(x, text=True))"
   ]
  },
  {
   "cell_type": "code",
   "execution_count": 674,
   "metadata": {
    "collapsed": true
   },
   "outputs": [],
   "source": [
    "def GetValues(df=train['df_block13_open26'], feature='Attire'):\n",
    "    ensumble = []\n",
    "    for item in list(df['info']):\n",
    "        if feature in item.keys():\n",
    "            if ', ' in item[feature]:\n",
    "                for i in item[feature].split(', '):\n",
    "                    ensumble.append(i)\n",
    "            else:\n",
    "                ensumble.append(item[feature])\n",
    "    return list(set(ensumble))"
   ]
  },
  {
   "cell_type": "code",
   "execution_count": 675,
   "metadata": {},
   "outputs": [
    {
     "name": "stdout",
     "output_type": "stream",
     "text": [
      "Attire:  ['Dressy', 'Formal (Jacket Required)', 'Casual']\n",
      "Parking:  ['Garage', 'Street', 'Valet', 'Validated', 'Private Lot']\n",
      "Alcohol:  ['No', 'Full Bar', 'Beer & Wine Only']\n",
      "Noise Level:  ['Loud', 'Very Loud', 'Quiet', 'Average']\n",
      "Wi-Fi:  ['No', 'Paid', 'Free']\n"
     ]
    }
   ],
   "source": [
    "for f in ['Attire', 'Parking', 'Alcohol', 'Noise Level', 'Wi-Fi']:\n",
    "    print(f+': ', GetValues(df=df, feature=f))"
   ]
  },
  {
   "cell_type": "code",
   "execution_count": 676,
   "metadata": {
    "collapsed": true
   },
   "outputs": [],
   "source": [
    "binomial = ['Accepts Credit Cards', 'Good for Groups', 'Good for Kids', \n",
    "                'Takes Reservations', 'Outdoor Seating', 'Take-out',  'Delivery', 'Has TV']\n",
    "polynomial = {'Attire': ['Dressy', 'Casual'],\n",
    "              'Parking': ['Valet', 'Garage', 'Street', 'Validated'], \n",
    "              'Alcohol': ['Full Bar', 'No'], \n",
    "              'Noise Level': ['Loud', 'Quite', 'Average'],\n",
    "              'Wi-Fi': ['No', 'Free']}"
   ]
  },
  {
   "cell_type": "code",
   "execution_count": 677,
   "metadata": {
    "collapsed": true
   },
   "outputs": [],
   "source": [
    "train_copy = {}\n",
    "test_copy = {}\n",
    "for key, df in train.items():\n",
    "    train_copy[key] = df.copy()\n",
    "for key, df in test.items():\n",
    "    test_copy[key] = df.copy()    "
   ]
  },
  {
   "cell_type": "markdown",
   "metadata": {},
   "source": [
    "# Process each train/test pair to get dummy variables"
   ]
  },
  {
   "cell_type": "code",
   "execution_count": 678,
   "metadata": {},
   "outputs": [
    {
     "name": "stdout",
     "output_type": "stream",
     "text": [
      "0\n",
      "1\n",
      "2\n",
      "3\n",
      "4\n",
      "5\n",
      "6\n",
      "7\n",
      "8\n",
      "9\n",
      "10\n",
      "11\n",
      "12\n",
      "13\n",
      "14\n",
      "15\n",
      "16\n",
      "17\n"
     ]
    }
   ],
   "source": [
    "for i, df in enumerate(list(train_copy.values()) + list(test_copy.values())):\n",
    "    print(i)\n",
    "    for key, columns in {'category': categories, 'neighborhood': neighborhoods, 'price_range': price_ranges}.items():\n",
    "        for c in columns:\n",
    "            df[c] = df[key].apply(lambda x: 1 if c in str(x) else 0)\n",
    "    df['info'] = df['info'].apply(lambda x: ColumnParser(x, text=True))\n",
    "    for b in binomial:\n",
    "        df[b] = df['info'].apply(lambda x: 1 if x.get(b,'0') == 'Yes' else 0)\n",
    "    for k, values in polynomial.items():\n",
    "        for v in values:\n",
    "            df[k+'_'+v] = df['info'].apply(lambda x: 1 if x.get(k, '0') == v else 0 )\n",
    "    df.drop(['category', 'neighborhood', 'price_range', 'info'], inplace=True,axis=1)"
   ]
  },
  {
   "cell_type": "markdown",
   "metadata": {},
   "source": [
    "# Write each train/test dataframe as csv files in ../part_03"
   ]
  },
  {
   "cell_type": "code",
   "execution_count": 679,
   "metadata": {
    "collapsed": true
   },
   "outputs": [],
   "source": [
    "for key, df in train_copy.items():\n",
    "    df.to_csv('../part_03/train_'+key+'.csv', index=False)"
   ]
  },
  {
   "cell_type": "code",
   "execution_count": 680,
   "metadata": {
    "collapsed": true
   },
   "outputs": [],
   "source": [
    "for key, df in test_copy.items():\n",
    "    df.to_csv('../part_03/test_'+key+'.csv', index=False)"
   ]
  }
 ],
 "metadata": {
  "kernelspec": {
   "display_name": "Python 3",
   "language": "python",
   "name": "python3"
  },
  "language_info": {
   "codemirror_mode": {
    "name": "ipython",
    "version": 3
   },
   "file_extension": ".py",
   "mimetype": "text/x-python",
   "name": "python",
   "nbconvert_exporter": "python",
   "pygments_lexer": "ipython3",
   "version": "3.6.1"
  }
 },
 "nbformat": 4,
 "nbformat_minor": 2
}
