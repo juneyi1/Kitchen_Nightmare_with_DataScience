{
 "cells": [
  {
   "cell_type": "code",
   "execution_count": 18,
   "metadata": {
    "collapsed": true
   },
   "outputs": [],
   "source": [
    "import math\n",
    "import sys\n",
    "import fileinput\n",
    "from lxml import html  \n",
    "import unicodecsv as csv\n",
    "import requests\n",
    "from time import sleep\n",
    "import re\n",
    "import argparse\n",
    "import pandas as pd\n",
    "import numpy as np\n",
    "from urllib.parse import quote, unquote\n",
    "import re, urllib"
   ]
  },
  {
   "cell_type": "code",
   "execution_count": 19,
   "metadata": {
    "collapsed": true
   },
   "outputs": [],
   "source": [
    "def GetParser(url):\n",
    "    response = requests.get(url).text\n",
    "    parser = html.fromstring(response)\n",
    "    return parser"
   ]
  },
  {
   "cell_type": "code",
   "execution_count": 20,
   "metadata": {
    "collapsed": true
   },
   "outputs": [],
   "source": [
    "def BusinessInfoScrapper(parser):\n",
    "    raw_name = parser.xpath(\"//h1[contains(@class,'page-title')]//text()\")\n",
    "    raw_claimed = parser.xpath(\"//span[contains(@class,'claim-status_icon--claimed')]/parent::div/text()\")\n",
    "    raw_reviews = parser.xpath(\"//div[contains(@class,'biz-main-info')]//span[contains(@class,'review-count rating-qualifier')]//text()\")\n",
    "    raw_category  = parser.xpath('//div[contains(@class,\"biz-page-header\")]//span[@class=\"category-str-list\"]//a/text()')\n",
    "    hours_table = parser.xpath(\"//table[contains(@class,'hours-table')]//tr\")\n",
    "    details_table = parser.xpath(\"//div[@class='short-def-list']//dl\")\n",
    "    raw_map_link = parser.xpath(\"//a[@class='biz-map-directions']/img/@src\")\n",
    "    raw_phone = parser.xpath(\".//span[@class='biz-phone']//text()\")\n",
    "    raw_address = parser.xpath('//div[@class=\"mapbox-text\"]//div[contains(@class,\"map-box-address\")]//text()')\n",
    "    raw_wbsite_link = parser.xpath(\"//span[contains(@class,'biz-website')]/a/@href\")\n",
    "    raw_price_range = parser.xpath(\"//dd[contains(@class,'price-description')]//text()\")\n",
    "    raw_health_rating = parser.xpath(\"//dd[contains(@class,'health-score-description')]//text()\")\n",
    "    rating_histogram = parser.xpath(\"//table[contains(@class,'histogram')]//tr[contains(@class,'histogram_row')]\")\n",
    "    raw_ratings = parser.xpath(\"//div[contains(@class,'biz-page-header')]//div[contains(@class,'rating')]/@title\")\n",
    "    raw_neighborhood = parser.xpath(\"//div[@class='map-box-address u-space-l4']/span[@class='neighborhood-str-list']//text()\")\n",
    "    report = parsed.xpath('//p[contains(@class,\"alert-message text-centered\")]/b/text()')\n",
    "    working_hours = []\n",
    "    \n",
    "    for hours in hours_table:\n",
    "        raw_day = hours.xpath(\".//th//text()\")\n",
    "        raw_timing = hours.xpath(\"./td//text()\")\n",
    "        day = ''.join(raw_day).strip()\n",
    "        timing = ''.join(raw_timing).strip()\n",
    "        working_hours.append({day:timing})\n",
    "    info = []\n",
    "    for details in details_table:\n",
    "        raw_description_key = details.xpath('.//dt//text()')\n",
    "        raw_description_value = details.xpath('.//dd//text()')\n",
    "        description_key = ''.join(raw_description_key).strip()\n",
    "        description_value = ''.join(raw_description_value).strip()\n",
    "        info.append({description_key:description_value})\n",
    "\n",
    "    ratings_histogram = [] \n",
    "    for ratings in rating_histogram:\n",
    "        raw_rating_key = ratings.xpath(\".//th//text()\")\n",
    "        raw_rating_value = ratings.xpath(\".//td[@class='histogram_count']//text()\")\n",
    "        rating_key = ''.join(raw_rating_key).strip()\n",
    "        rating_value = ''.join(raw_rating_value).strip()\n",
    "        ratings_histogram.append({int(rating_key[0]):int(rating_value)})\n",
    "\n",
    "    name = ''.join(raw_name).strip()\n",
    "    phone = ''.join(raw_phone).strip()\n",
    "    address = ' '.join(' '.join(raw_address).split())\n",
    "    health_rating = ''.join(raw_health_rating).strip()\n",
    "    price_range = ''.join(raw_price_range).strip()\n",
    "    claimed_status = ''.join(raw_claimed).strip()\n",
    "    category = ','.join(raw_category)\n",
    "    cleaned_ratings = ''.join(raw_ratings).strip()\n",
    "\n",
    "    if raw_wbsite_link:\n",
    "        #pass\n",
    "        decoded_raw_website_link = urllib.parse.unquote(raw_wbsite_link[0])\n",
    "        website = re.findall(\"biz_redir\\?url=(.*)&website_link\",decoded_raw_website_link)[0]\n",
    "    else:\n",
    "        website = ''\n",
    "\n",
    "    if raw_map_link:\n",
    "        decoded_map_url =  urllib.parse.unquote(raw_map_link[0])\n",
    "        map_coordinates = re.findall(\"([+-]?\\d+.\\d+,[+-]?\\d+\\.\\d+)\",decoded_map_url)[0].split(',')\n",
    "        latitude = float(map_coordinates[0])\n",
    "        longitude = float(map_coordinates[1])\n",
    "    else:\n",
    "        latitude = ''\n",
    "        longitude = ''\n",
    "\n",
    "    if raw_ratings:\n",
    "        ratings = float(re.findall(\"\\d+[.,]?\\d+\",cleaned_ratings)[0])\n",
    "    else:\n",
    "        ratings = 0\n",
    "\n",
    "    if raw_neighborhood:\n",
    "        neighborhood = ''.join(raw_neighborhood).strip()\n",
    "    else:\n",
    "        neighborhood = ''\n",
    "\n",
    "    if raw_reviews:\n",
    "        reviews = int(''.join(raw_reviews).strip().replace(' reviews','').replace(' review',''))\n",
    "    else:\n",
    "        reviews = ''\n",
    "\n",
    "    if report == []:\n",
    "        permanently_closed = 0\n",
    "    else:\n",
    "        permanently_closed = 1\n",
    "\n",
    "    data={'working_hours':working_hours,\n",
    "        'info':info,\n",
    "        'ratings_histogram':ratings_histogram,\n",
    "        'name':name,\n",
    "        'phone':phone,\n",
    "        'ratings':ratings,\n",
    "        'address':address,\n",
    "        'health_rating':health_rating,\n",
    "        'price_range':price_range,\n",
    "        'claimed_status':claimed_status,\n",
    "        'reviews':reviews,\n",
    "        'category':category,\n",
    "        'website':website,\n",
    "        'latitude':latitude,\n",
    "        'longitude':longitude,\n",
    "        'neighborhood': neighborhood,  \n",
    "        'url':url,\n",
    "        'permanently_closed': permanently_closed \n",
    "         }\n",
    "    return data"
   ]
  },
  {
   "cell_type": "code",
   "execution_count": 21,
   "metadata": {
    "collapsed": true
   },
   "outputs": [],
   "source": [
    "def GetAllReivews(parser):\n",
    "    '''Given the parsed first webpage of a restaurant on yelp, return all reviews of that restaurants'''\n",
    "    review_dict = {'date': [], 'star': [], 'text': []}\n",
    "    \n",
    "    review_dates = parser.xpath(\"//div[@class='review-content']//span[@class='rating-qualifier']\")\n",
    "    for d in review_dates:\n",
    "        date = ''.join(d.xpath(\".//text()\")).strip().split('\\n')[0]\n",
    "        review_dict['date'].append(date)    \n",
    "\n",
    "    review_stars = parser.xpath(\"//div[@class='review review--with-sidebar']/div[@class='review-wrapper']/div[@class='review-content']/div[@class='biz-rating biz-rating-large clearfix']\")\n",
    "    for s in review_stars:\n",
    "        star = float(''.join(s.xpath(\".//@title\")).strip().replace(' star rating',''))\n",
    "        review_dict['star'].append(star)\n",
    "        \n",
    "    review_texts = parser.xpath(\"//div[@class='review review--with-sidebar']/div[@class='review-wrapper']/div[@class='review-content']/p\")\n",
    "    for t in review_texts:\n",
    "        text = ' '.join(t.xpath(\".//text()\"))\n",
    "        review_dict['text'].append(text)\n",
    "    \n",
    "    review = pd.DataFrame(review_dict)\n",
    "    review['date'] =  pd.to_datetime(review['date'])\n",
    "    \n",
    "    review_pages_section = parser.xpath(\"//div[@class='arrange arrange--stack arrange--baseline arrange--6']//text()\")     \n",
    "    review_pages = [item for item in [e.replace('\\n','').replace(' ','') for e in review_pages_section] if item != '' ]\n",
    "\n",
    "    if 'Next' not in review_pages:\n",
    "        return review\n",
    "    else:\n",
    "        nextpage = parser.xpath('//a[@class=\"u-decoration-none next pagination-links_anchor\"]/@href')[0]\n",
    "        nextparser = GetParser(nextpage)\n",
    "        sleep(random.choice([1,2]))\n",
    "        return review.append(GetAllReivews(nextparser), ignore_index=True)\n",
    "    "
   ]
  },
  {
   "cell_type": "code",
   "execution_count": 30,
   "metadata": {},
   "outputs": [
    {
     "data": {
      "text/plain": [
       "'/Users/cysung/GA/projects/project_capstone/part_02/Gayot_copy'"
      ]
     },
     "execution_count": 30,
     "metadata": {},
     "output_type": "execute_result"
    }
   ],
   "source": [
    "import os\n",
    "os.getcwd()"
   ]
  },
  {
   "cell_type": "code",
   "execution_count": 28,
   "metadata": {},
   "outputs": [],
   "source": [
    "def GetAllRestaurants(path='./',listfile='./gayot_list_nochain.txt', start=0, end=559, GetReviews=True):\n",
    "    import random\n",
    "    yelp_url = 'https://www.yelp.com/biz/'\n",
    "    restaurants = [line.strip() for line in open(listfile)]\n",
    "    for i, r in enumerate(restaurants[start:end]):\n",
    "        keyword = r.lower().replace('\\'','').replace('&', 'and').replace(',','').replace(' ','-')\n",
    "        url = yelp_url + keyword + '-chicago'\n",
    "        response = requests.get(url)\n",
    "        sleep(random.choice([1,2]))\n",
    "        if response.status_code == 200:    \n",
    "            parsed = html.fromstring(response.text)\n",
    "            data = BusinessInfoScrapper(parsed)\n",
    "            restaurant = pd.DataFrame({k:[v] for k, v in data.items()})\n",
    "            restaurant.to_csv(path+str(i+start)+'_'+keyword+'.csv', index=False)\n",
    "            if GetReviews:\n",
    "                reviews = GetAllReivews(parsed).sort_values(by='date', ascending=False).reset_index(drop=True)\n",
    "                reviews.to_csv(path+str(i+start)+'_'+keyword+'_review.csv', index=False)        \n",
    "            print('got '+str(i+start)+': '+url)\n",
    "        else:\n",
    "            print('didn\\'t get '+str(i+start)+': '+url)"
   ]
  },
  {
   "cell_type": "code",
   "execution_count": 29,
   "metadata": {},
   "outputs": [
    {
     "name": "stdout",
     "output_type": "stream",
     "text": [
      "got 0: https://www.yelp.com/biz/2-sparrows-chicago\n",
      "got 1: https://www.yelp.com/biz/33-club-chicago\n",
      "got 2: https://www.yelp.com/biz/42-grams-chicago\n",
      "got 3: https://www.yelp.com/biz/a-la-turka-turkish-kitchen-chicago\n",
      "got 4: https://www.yelp.com/biz/a-mano-chicago\n",
      "didn't get 5: https://www.yelp.com/biz/a-milano-italian-grill-chicago\n",
      "got 6: https://www.yelp.com/biz/abbey-pub-chicago\n",
      "didn't get 7: https://www.yelp.com/biz/abril-chicago\n",
      "didn't get 8: https://www.yelp.com/biz/addis-abeba-chicago\n",
      "got 9: https://www.yelp.com/biz/adesso-chicago\n",
      "got 10: https://www.yelp.com/biz/adobo-grill-chicago\n",
      "got 11: https://www.yelp.com/biz/aigre-doux-chicago\n",
      "got 12: https://www.yelp.com/biz/aja-chicago\n",
      "got 13: https://www.yelp.com/biz/al-chulas-american-grill-chicago\n",
      "didn't get 14: https://www.yelp.com/biz/al-dente-cafe-and-lounge-chicago\n",
      "got 15: https://www.yelp.com/biz/al-primo-canto-chicago\n",
      "didn't get 16: https://www.yelp.com/biz/alberts-cafe-and-patisserie-chicago\n",
      "got 17: https://www.yelp.com/biz/aldinos-chicago\n",
      "didn't get 18: https://www.yelp.com/biz/allens-chicago\n",
      "didn't get 19: https://www.yelp.com/biz/amber-chicago\n",
      "got 20: https://www.yelp.com/biz/ambria-chicago\n",
      "got 21: https://www.yelp.com/biz/american-junkie-chicago\n",
      "got 22: https://www.yelp.com/biz/anderssons-kitchen-and-bakery-chicago\n",
      "got 23: https://www.yelp.com/biz/ani-chicago\n",
      "got 24: https://www.yelp.com/biz/ann-sathers-chicago\n",
      "got 25: https://www.yelp.com/biz/arami-chicago\n",
      "got 26: https://www.yelp.com/biz/arco-de-cuchilleros-chicago\n",
      "got 27: https://www.yelp.com/biz/aria-chicago\n",
      "got 28: https://www.yelp.com/biz/army-and-lous-chicago\n",
      "got 29: https://www.yelp.com/biz/arturo-express-chicago\n",
      "got 30: https://www.yelp.com/biz/atlantique-chicago\n",
      "didn't get 31: https://www.yelp.com/biz/aubriot-chicago\n",
      "got 32: https://www.yelp.com/biz/august-moon-chicago\n",
      "didn't get 33: https://www.yelp.com/biz/austin-bbq-chicago\n",
      "got 34: https://www.yelp.com/biz/avenue-m-chicago\n",
      "didn't get 35: https://www.yelp.com/biz/avenues-chicago\n",
      "didn't get 36: https://www.yelp.com/biz/azzurra-chicago\n",
      "didn't get 37: https://www.yelp.com/biz/babaluci-italian-eatery-chicago\n",
      "got 38: https://www.yelp.com/biz/ballo-chicago\n",
      "didn't get 39: https://www.yelp.com/biz/banana-moon-chicago\n",
      "didn't get 40: https://www.yelp.com/biz/bando-chicago\n",
      "didn't get 41: https://www.yelp.com/biz/bangkok-star-chicago\n",
      "got 42: https://www.yelp.com/biz/barcellos-chicago\n",
      "didn't get 43: https://www.yelp.com/biz/becco-doro-chicago\n",
      "got 44: https://www.yelp.com/biz/the-bedford-chicago\n",
      "got 45: https://www.yelp.com/biz/bella-rosa-ristorante-and-galleria-chicago\n",
      "got 46: https://www.yelp.com/biz/bella-vista-chicago\n",
      "got 47: https://www.yelp.com/biz/belly-shack-chicago\n",
      "got 48: https://www.yelp.com/biz/ben-pao-chicago\n",
      "didn't get 49: https://www.yelp.com/biz/berrista-chicago\n",
      "didn't get 50: https://www.yelp.com/biz/bertuccis-chicago\n",
      "didn't get 51: https://www.yelp.com/biz/biaggios-chicago\n",
      "got 52: https://www.yelp.com/biz/bice-ristorante-chicago\n",
      "didn't get 53: https://www.yelp.com/biz/biggs-chicago\n",
      "didn't get 54: https://www.yelp.com/biz/bin-36-lincolnshire-chicago\n",
      "got 55: https://www.yelp.com/biz/bin-36-chicago\n",
      "got 56: https://www.yelp.com/biz/bin-wine-cafe-chicago\n",
      "got 57: https://www.yelp.com/biz/bistro-110-chicago\n"
     ]
    },
    {
     "ename": "UnboundLocalError",
     "evalue": "local variable 'bypass' referenced before assignment",
     "output_type": "error",
     "traceback": [
      "\u001b[0;31m---------------------------------------------------------------------------\u001b[0m",
      "\u001b[0;31mUnboundLocalError\u001b[0m                         Traceback (most recent call last)",
      "\u001b[0;32m<ipython-input-29-191f534d41f2>\u001b[0m in \u001b[0;36m<module>\u001b[0;34m()\u001b[0m\n\u001b[0;32m----> 1\u001b[0;31m \u001b[0mGetAllRestaurants\u001b[0m\u001b[0;34m(\u001b[0m\u001b[0mpath\u001b[0m\u001b[0;34m=\u001b[0m\u001b[0;34m'./'\u001b[0m\u001b[0;34m,\u001b[0m\u001b[0mlistfile\u001b[0m\u001b[0;34m=\u001b[0m\u001b[0;34m'./gayot_list_nochain.txt'\u001b[0m\u001b[0;34m,\u001b[0m \u001b[0mstart\u001b[0m\u001b[0;34m=\u001b[0m\u001b[0;36m0\u001b[0m\u001b[0;34m,\u001b[0m \u001b[0mend\u001b[0m\u001b[0;34m=\u001b[0m\u001b[0;36m559\u001b[0m\u001b[0;34m,\u001b[0m \u001b[0mGetReviews\u001b[0m\u001b[0;34m=\u001b[0m\u001b[0;32mFalse\u001b[0m\u001b[0;34m)\u001b[0m\u001b[0;34m\u001b[0m\u001b[0m\n\u001b[0m",
      "\u001b[0;32m<ipython-input-28-aae3fe29e251>\u001b[0m in \u001b[0;36mGetAllRestaurants\u001b[0;34m(path, listfile, start, end, GetReviews)\u001b[0m\n\u001b[1;32m      6\u001b[0m         \u001b[0mkeyword\u001b[0m \u001b[0;34m=\u001b[0m \u001b[0mr\u001b[0m\u001b[0;34m.\u001b[0m\u001b[0mlower\u001b[0m\u001b[0;34m(\u001b[0m\u001b[0;34m)\u001b[0m\u001b[0;34m.\u001b[0m\u001b[0mreplace\u001b[0m\u001b[0;34m(\u001b[0m\u001b[0;34m'\\''\u001b[0m\u001b[0;34m,\u001b[0m\u001b[0;34m''\u001b[0m\u001b[0;34m)\u001b[0m\u001b[0;34m.\u001b[0m\u001b[0mreplace\u001b[0m\u001b[0;34m(\u001b[0m\u001b[0;34m'&'\u001b[0m\u001b[0;34m,\u001b[0m \u001b[0;34m'and'\u001b[0m\u001b[0;34m)\u001b[0m\u001b[0;34m.\u001b[0m\u001b[0mreplace\u001b[0m\u001b[0;34m(\u001b[0m\u001b[0;34m','\u001b[0m\u001b[0;34m,\u001b[0m\u001b[0;34m''\u001b[0m\u001b[0;34m)\u001b[0m\u001b[0;34m.\u001b[0m\u001b[0mreplace\u001b[0m\u001b[0;34m(\u001b[0m\u001b[0;34m' '\u001b[0m\u001b[0;34m,\u001b[0m\u001b[0;34m'-'\u001b[0m\u001b[0;34m)\u001b[0m\u001b[0;34m\u001b[0m\u001b[0m\n\u001b[1;32m      7\u001b[0m         \u001b[0murl\u001b[0m \u001b[0;34m=\u001b[0m \u001b[0myelp_url\u001b[0m \u001b[0;34m+\u001b[0m \u001b[0mkeyword\u001b[0m \u001b[0;34m+\u001b[0m \u001b[0;34m'-chicago'\u001b[0m\u001b[0;34m\u001b[0m\u001b[0m\n\u001b[0;32m----> 8\u001b[0;31m         \u001b[0mresponse\u001b[0m \u001b[0;34m=\u001b[0m \u001b[0mrequests\u001b[0m\u001b[0;34m.\u001b[0m\u001b[0mget\u001b[0m\u001b[0;34m(\u001b[0m\u001b[0murl\u001b[0m\u001b[0;34m)\u001b[0m\u001b[0;34m\u001b[0m\u001b[0m\n\u001b[0m\u001b[1;32m      9\u001b[0m         \u001b[0msleep\u001b[0m\u001b[0;34m(\u001b[0m\u001b[0mrandom\u001b[0m\u001b[0;34m.\u001b[0m\u001b[0mchoice\u001b[0m\u001b[0;34m(\u001b[0m\u001b[0;34m[\u001b[0m\u001b[0;36m1\u001b[0m\u001b[0;34m,\u001b[0m\u001b[0;36m2\u001b[0m\u001b[0;34m]\u001b[0m\u001b[0;34m)\u001b[0m\u001b[0;34m)\u001b[0m\u001b[0;34m\u001b[0m\u001b[0m\n\u001b[1;32m     10\u001b[0m         \u001b[0;32mif\u001b[0m \u001b[0mresponse\u001b[0m\u001b[0;34m.\u001b[0m\u001b[0mstatus_code\u001b[0m \u001b[0;34m==\u001b[0m \u001b[0;36m200\u001b[0m\u001b[0;34m:\u001b[0m\u001b[0;34m\u001b[0m\u001b[0m\n",
      "\u001b[0;32m/Users/cysung/anaconda3/lib/python3.6/site-packages/requests/api.py\u001b[0m in \u001b[0;36mget\u001b[0;34m(url, params, **kwargs)\u001b[0m\n\u001b[1;32m     70\u001b[0m \u001b[0;34m\u001b[0m\u001b[0m\n\u001b[1;32m     71\u001b[0m     \u001b[0mkwargs\u001b[0m\u001b[0;34m.\u001b[0m\u001b[0msetdefault\u001b[0m\u001b[0;34m(\u001b[0m\u001b[0;34m'allow_redirects'\u001b[0m\u001b[0;34m,\u001b[0m \u001b[0;32mTrue\u001b[0m\u001b[0;34m)\u001b[0m\u001b[0;34m\u001b[0m\u001b[0m\n\u001b[0;32m---> 72\u001b[0;31m     \u001b[0;32mreturn\u001b[0m \u001b[0mrequest\u001b[0m\u001b[0;34m(\u001b[0m\u001b[0;34m'get'\u001b[0m\u001b[0;34m,\u001b[0m \u001b[0murl\u001b[0m\u001b[0;34m,\u001b[0m \u001b[0mparams\u001b[0m\u001b[0;34m=\u001b[0m\u001b[0mparams\u001b[0m\u001b[0;34m,\u001b[0m \u001b[0;34m**\u001b[0m\u001b[0mkwargs\u001b[0m\u001b[0;34m)\u001b[0m\u001b[0;34m\u001b[0m\u001b[0m\n\u001b[0m\u001b[1;32m     73\u001b[0m \u001b[0;34m\u001b[0m\u001b[0m\n\u001b[1;32m     74\u001b[0m \u001b[0;34m\u001b[0m\u001b[0m\n",
      "\u001b[0;32m/Users/cysung/anaconda3/lib/python3.6/site-packages/requests/api.py\u001b[0m in \u001b[0;36mrequest\u001b[0;34m(method, url, **kwargs)\u001b[0m\n\u001b[1;32m     56\u001b[0m     \u001b[0;31m# cases, and look like a memory leak in others.\u001b[0m\u001b[0;34m\u001b[0m\u001b[0;34m\u001b[0m\u001b[0m\n\u001b[1;32m     57\u001b[0m     \u001b[0;32mwith\u001b[0m \u001b[0msessions\u001b[0m\u001b[0;34m.\u001b[0m\u001b[0mSession\u001b[0m\u001b[0;34m(\u001b[0m\u001b[0;34m)\u001b[0m \u001b[0;32mas\u001b[0m \u001b[0msession\u001b[0m\u001b[0;34m:\u001b[0m\u001b[0;34m\u001b[0m\u001b[0m\n\u001b[0;32m---> 58\u001b[0;31m         \u001b[0;32mreturn\u001b[0m \u001b[0msession\u001b[0m\u001b[0;34m.\u001b[0m\u001b[0mrequest\u001b[0m\u001b[0;34m(\u001b[0m\u001b[0mmethod\u001b[0m\u001b[0;34m=\u001b[0m\u001b[0mmethod\u001b[0m\u001b[0;34m,\u001b[0m \u001b[0murl\u001b[0m\u001b[0;34m=\u001b[0m\u001b[0murl\u001b[0m\u001b[0;34m,\u001b[0m \u001b[0;34m**\u001b[0m\u001b[0mkwargs\u001b[0m\u001b[0;34m)\u001b[0m\u001b[0;34m\u001b[0m\u001b[0m\n\u001b[0m\u001b[1;32m     59\u001b[0m \u001b[0;34m\u001b[0m\u001b[0m\n\u001b[1;32m     60\u001b[0m \u001b[0;34m\u001b[0m\u001b[0m\n",
      "\u001b[0;32m/Users/cysung/anaconda3/lib/python3.6/site-packages/requests/sessions.py\u001b[0m in \u001b[0;36mrequest\u001b[0;34m(self, method, url, params, data, headers, cookies, files, auth, timeout, allow_redirects, proxies, hooks, stream, verify, cert, json)\u001b[0m\n\u001b[1;32m    507\u001b[0m \u001b[0;34m\u001b[0m\u001b[0m\n\u001b[1;32m    508\u001b[0m         settings = self.merge_environment_settings(\n\u001b[0;32m--> 509\u001b[0;31m             \u001b[0mprep\u001b[0m\u001b[0;34m.\u001b[0m\u001b[0murl\u001b[0m\u001b[0;34m,\u001b[0m \u001b[0mproxies\u001b[0m\u001b[0;34m,\u001b[0m \u001b[0mstream\u001b[0m\u001b[0;34m,\u001b[0m \u001b[0mverify\u001b[0m\u001b[0;34m,\u001b[0m \u001b[0mcert\u001b[0m\u001b[0;34m\u001b[0m\u001b[0m\n\u001b[0m\u001b[1;32m    510\u001b[0m         )\n\u001b[1;32m    511\u001b[0m \u001b[0;34m\u001b[0m\u001b[0m\n",
      "\u001b[0;32m/Users/cysung/anaconda3/lib/python3.6/site-packages/requests/sessions.py\u001b[0m in \u001b[0;36mmerge_environment_settings\u001b[0;34m(self, url, proxies, stream, verify, cert)\u001b[0m\n\u001b[1;32m    684\u001b[0m             \u001b[0;31m# Set environment's proxies.\u001b[0m\u001b[0;34m\u001b[0m\u001b[0;34m\u001b[0m\u001b[0m\n\u001b[1;32m    685\u001b[0m             \u001b[0mno_proxy\u001b[0m \u001b[0;34m=\u001b[0m \u001b[0mproxies\u001b[0m\u001b[0;34m.\u001b[0m\u001b[0mget\u001b[0m\u001b[0;34m(\u001b[0m\u001b[0;34m'no_proxy'\u001b[0m\u001b[0;34m)\u001b[0m \u001b[0;32mif\u001b[0m \u001b[0mproxies\u001b[0m \u001b[0;32mis\u001b[0m \u001b[0;32mnot\u001b[0m \u001b[0;32mNone\u001b[0m \u001b[0;32melse\u001b[0m \u001b[0;32mNone\u001b[0m\u001b[0;34m\u001b[0m\u001b[0m\n\u001b[0;32m--> 686\u001b[0;31m             \u001b[0menv_proxies\u001b[0m \u001b[0;34m=\u001b[0m \u001b[0mget_environ_proxies\u001b[0m\u001b[0;34m(\u001b[0m\u001b[0murl\u001b[0m\u001b[0;34m,\u001b[0m \u001b[0mno_proxy\u001b[0m\u001b[0;34m=\u001b[0m\u001b[0mno_proxy\u001b[0m\u001b[0;34m)\u001b[0m\u001b[0;34m\u001b[0m\u001b[0m\n\u001b[0m\u001b[1;32m    687\u001b[0m             \u001b[0;32mfor\u001b[0m \u001b[0;34m(\u001b[0m\u001b[0mk\u001b[0m\u001b[0;34m,\u001b[0m \u001b[0mv\u001b[0m\u001b[0;34m)\u001b[0m \u001b[0;32min\u001b[0m \u001b[0menv_proxies\u001b[0m\u001b[0;34m.\u001b[0m\u001b[0mitems\u001b[0m\u001b[0;34m(\u001b[0m\u001b[0;34m)\u001b[0m\u001b[0;34m:\u001b[0m\u001b[0;34m\u001b[0m\u001b[0m\n\u001b[1;32m    688\u001b[0m                 \u001b[0mproxies\u001b[0m\u001b[0;34m.\u001b[0m\u001b[0msetdefault\u001b[0m\u001b[0;34m(\u001b[0m\u001b[0mk\u001b[0m\u001b[0;34m,\u001b[0m \u001b[0mv\u001b[0m\u001b[0;34m)\u001b[0m\u001b[0;34m\u001b[0m\u001b[0m\n",
      "\u001b[0;32m/Users/cysung/anaconda3/lib/python3.6/site-packages/requests/utils.py\u001b[0m in \u001b[0;36mget_environ_proxies\u001b[0;34m(url, no_proxy)\u001b[0m\n\u001b[1;32m    691\u001b[0m     \u001b[0;34m:\u001b[0m\u001b[0mrtype\u001b[0m\u001b[0;34m:\u001b[0m \u001b[0mdict\u001b[0m\u001b[0;34m\u001b[0m\u001b[0m\n\u001b[1;32m    692\u001b[0m     \"\"\"\n\u001b[0;32m--> 693\u001b[0;31m     \u001b[0;32mif\u001b[0m \u001b[0mshould_bypass_proxies\u001b[0m\u001b[0;34m(\u001b[0m\u001b[0murl\u001b[0m\u001b[0;34m,\u001b[0m \u001b[0mno_proxy\u001b[0m\u001b[0;34m=\u001b[0m\u001b[0mno_proxy\u001b[0m\u001b[0;34m)\u001b[0m\u001b[0;34m:\u001b[0m\u001b[0;34m\u001b[0m\u001b[0m\n\u001b[0m\u001b[1;32m    694\u001b[0m         \u001b[0;32mreturn\u001b[0m \u001b[0;34m{\u001b[0m\u001b[0;34m}\u001b[0m\u001b[0;34m\u001b[0m\u001b[0m\n\u001b[1;32m    695\u001b[0m     \u001b[0;32melse\u001b[0m\u001b[0;34m:\u001b[0m\u001b[0;34m\u001b[0m\u001b[0m\n",
      "\u001b[0;32m/Users/cysung/anaconda3/lib/python3.6/site-packages/requests/utils.py\u001b[0m in \u001b[0;36mshould_bypass_proxies\u001b[0;34m(url, no_proxy)\u001b[0m\n\u001b[1;32m    679\u001b[0m             \u001b[0mbypass\u001b[0m \u001b[0;34m=\u001b[0m \u001b[0;32mFalse\u001b[0m\u001b[0;34m\u001b[0m\u001b[0m\n\u001b[1;32m    680\u001b[0m \u001b[0;34m\u001b[0m\u001b[0m\n\u001b[0;32m--> 681\u001b[0;31m     \u001b[0;32mif\u001b[0m \u001b[0mbypass\u001b[0m\u001b[0;34m:\u001b[0m\u001b[0;34m\u001b[0m\u001b[0m\n\u001b[0m\u001b[1;32m    682\u001b[0m         \u001b[0;32mreturn\u001b[0m \u001b[0;32mTrue\u001b[0m\u001b[0;34m\u001b[0m\u001b[0m\n\u001b[1;32m    683\u001b[0m \u001b[0;34m\u001b[0m\u001b[0m\n",
      "\u001b[0;31mUnboundLocalError\u001b[0m: local variable 'bypass' referenced before assignment"
     ]
    }
   ],
   "source": [
    "GetAllRestaurants(path='./',listfile='./gayot_list_nochain.txt', start=0, end=559, GetReviews=False)"
   ]
  },
  {
   "cell_type": "code",
   "execution_count": 9,
   "metadata": {
    "collapsed": true
   },
   "outputs": [],
   "source": [
    "#restaurants_dict = {}\n",
    "offset = 381\n",
    "for i, r in enumerate(restaurants[offset:]):\n",
    "    keyword = r.lower().replace('\\'','').replace('&', 'and').replace(',','').replace(' ','-')\n",
    "    url = yelp_url + keyword + '-chicago'\n",
    "    #dict = {}\n",
    "    #restaurants_dict['url'].append(url)\n",
    "    response = requests.get(url)\n",
    "    sleep(1)\n",
    "    if response.status_code == 200:    \n",
    "        parsed = html.fromstring(response.text)\n",
    "        data = BusinessInfoScrapper(parsed)\n",
    "        restaurant = pd.DataFrame({k:[v] for k, v in data.items()})\n",
    "        restaurant.to_csv(str(i+offset)+'_'+keyword+'.csv', index=False)\n",
    "        reviews = GetAllReivews(parsed).sort_values(by='date', ascending=False).reset_index(drop=True)\n",
    "        reviews.to_csv(str(i+offset)+'_'+keyword+'_review.csv', index=False)        \n",
    "    else:\n",
    "        not_found['restaurants'].append(r)\n",
    "        not_found['url'].append(url)"
   ]
  },
  {
   "cell_type": "code",
   "execution_count": 6,
   "metadata": {
    "collapsed": true
   },
   "outputs": [],
   "source": [
    "updated_restaurants = [line.strip() for line in open('updated_list.txt')]"
   ]
  },
  {
   "cell_type": "code",
   "execution_count": 11,
   "metadata": {},
   "outputs": [
    {
     "name": "stdout",
     "output_type": "stream",
     "text": [
      "Got  140 : coast-sushi-bar\n",
      "Got  167 : de-la-costa\n",
      "Got  171 : dillmans\n",
      "Got  178 : the-drawing-room\n",
      "Got  180 : d-vine-restaurant\n",
      "Got  188 : elis-the-place-for-steak\n",
      "Got  192 : entre-nous-restaurant\n",
      "Got  201 : fattoush-restaurant\n",
      "Got  206 : flo\n",
      "Got  223 : gennaros-restaurant\n",
      "Got  224 : gandhi-india-restaurant\n",
      "Got  231 : grace-o-malleys\n",
      "Got  240 : the-grotto-on-state\n",
      "Got  241 : hacienda-tecalitlan-restaurant\n",
      "Got  247 : hillarys-urban-eatery\n",
      "Got  249 : hong-min-restaurant\n",
      "Got  263 : ing-restaurant\n",
      "Got  272 : japonais-by-morimoto\n",
      "Got  276 : joey-buonas-pizzareria\n",
      "Got  284 : kabocha-japanese-brasserie\n",
      "Got  289 : kaze-sushi\n",
      "Got  296 : kyoto-sushi-steak-seafood\n",
      "Got  302 : la-donna-italian-cuisine\n",
      "Got  305 : la-strada-ristorante\n",
      "Got  308 : la-vita-restaurant\n",
      "Got  310 : landmark-grill\n",
      "Got  322 : lindo-mexico-restauant\n",
      "Got  332 : magnums-prime-steakhouse\n",
      "Got  346 : mi-peru-restaurant-and-club\n",
      "Got  352 : mk-restaurant\n",
      "Got  358 : moon-palace-restaurant\n",
      "Got  360 : moti-mahal-indian-restaurant\n",
      "Got  368 : cafe-nhu-hoa\n",
      "Didn't get  371 : rylon’s-smokehouse\n",
      "Didn't get  375 : nuevo-leon-restaurant-chicago-2\n",
      "Got  388 : leons-bar-b-q\n",
      "Got  399 : papagus-greek-taverna\n",
      "Got  404 : the-parthenon\n",
      "Got  427 : province\n",
      "Got  455 : sabor-a-cuba-restaurant\n",
      "Got  496 : swank-frank-inc\n",
      "Got  509 : thai-classic-restaurant\n",
      "Got  511 : thyme-restaurant\n",
      "Got  522 : treat-restaurant\n",
      "Got  526 : tsunami-japanese-restaurant\n",
      "Got  527 : tuscany-restaurant\n",
      "Got  545 : x-o-chicago\n",
      "Got  551 : le-petit-paris\n",
      "Got  552 : zealous-restaurant\n",
      "Got  555 : osteria-la-madia\n",
      "Got  556 : zk-food\n",
      "Got  557 : zocalo\n"
     ]
    }
   ],
   "source": [
    "for r in updated_restaurants[20:]:\n",
    "    number = r.split()[0]\n",
    "    keyword = '-'.join(r.split()[1:]).lower().replace('\\'','').replace('&', 'and').replace(',','')\n",
    "    url = yelp_url + keyword + '-chicago'\n",
    "    response = requests.get(url)\n",
    "    sleep(1)\n",
    "    if response.status_code == 200:    \n",
    "        parsed = html.fromstring(response.text)\n",
    "        data = BusinessInfoScrapper(parsed)\n",
    "        restaurant = pd.DataFrame({k:[v] for k, v in data.items()})\n",
    "        restaurant.to_csv(str(number)+'_'+keyword+'.csv', index=False)\n",
    "        reviews = GetAllReivews(parsed).sort_values(by='date', ascending=False).reset_index(drop=True)\n",
    "        reviews.to_csv(str(number)+'_'+keyword+'_review.csv', index=False)        \n",
    "        print('Got ', number, ':', keyword)\n",
    "    else:\n",
    "        print('Didn\\'t get ', number, ':', keyword)"
   ]
  },
  {
   "cell_type": "code",
   "execution_count": 15,
   "metadata": {
    "collapsed": true
   },
   "outputs": [],
   "source": [
    "def GetRestaurant(number=None, keyword=None, postfix=None):\n",
    "    yelp_url = 'https://www.yelp.com/biz/'\n",
    "    url = yelp_url + keyword + '-chicago' + postfix\n",
    "    response = requests.get(url)\n",
    "    sleep(1)\n",
    "    if response.status_code == 200:    \n",
    "        parsed = html.fromstring(response.text)\n",
    "        data = BusinessInfoScrapper(parsed)\n",
    "        restaurant = pd.DataFrame({k:[v] for k, v in data.items()})\n",
    "        restaurant.to_csv(str(number)+'_'+keyword+'.csv', index=False)\n",
    "        reviews = GetAllReivews(parsed).sort_values(by='date', ascending=False).reset_index(drop=True)\n",
    "        reviews.to_csv(str(number)+'_'+keyword+'_review.csv', index=False)        \n",
    "        print('Got ', number, ':', keyword)\n",
    "    else:\n",
    "        print('Didn\\'t get ', number, ':', keyword)    "
   ]
  },
  {
   "cell_type": "code",
   "execution_count": 13,
   "metadata": {},
   "outputs": [
    {
     "name": "stdout",
     "output_type": "stream",
     "text": [
      "Got  371 : rylons-smokehouse\n"
     ]
    }
   ],
   "source": [
    "GetRestaurant(number=371, keyword='rylons-smokehouse', postfix=None)"
   ]
  },
  {
   "cell_type": "code",
   "execution_count": 16,
   "metadata": {},
   "outputs": [
    {
     "name": "stdout",
     "output_type": "stream",
     "text": [
      "Got  375 : nuevo-leon-restaurant\n"
     ]
    }
   ],
   "source": [
    "GetRestaurant(number=375, keyword='nuevo-leon-restaurant', postfix='-2')"
   ]
  },
  {
   "cell_type": "code",
   "execution_count": null,
   "metadata": {
    "collapsed": true
   },
   "outputs": [],
   "source": []
  }
 ],
 "metadata": {
  "kernelspec": {
   "display_name": "Python 3",
   "language": "python",
   "name": "python3"
  },
  "language_info": {
   "codemirror_mode": {
    "name": "ipython",
    "version": 3
   },
   "file_extension": ".py",
   "mimetype": "text/x-python",
   "name": "python",
   "nbconvert_exporter": "python",
   "pygments_lexer": "ipython3",
   "version": "3.6.1"
  }
 },
 "nbformat": 4,
 "nbformat_minor": 2
}
