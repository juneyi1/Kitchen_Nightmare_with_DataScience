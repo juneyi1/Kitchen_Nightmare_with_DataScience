{
 "cells": [
  {
   "cell_type": "markdown",
   "metadata": {},
   "source": [
    "# Load from canonical restaurant data"
   ]
  },
  {
   "cell_type": "code",
   "execution_count": 1,
   "metadata": {
    "collapsed": true
   },
   "outputs": [],
   "source": [
    "import pandas as pd\n",
    "import numpy as np\n",
    "from os import listdir\n",
    "from os.path import isfile, join\n",
    "# from sklearn.preprocessing import StandardScaler, Imputer, FunctionTransformer, LabelBinarizer\n",
    "# from sklearn.pipeline import Pipeline, make_pipeline\n",
    "# from sklearn.linear_model import LogisticRegression, SGDClassifier\n",
    "# from sklearn.tree import DecisionTreeClassifier\n",
    "# from sklearn.ensemble import RandomForestClassifier, VotingClassifier, GradientBoostingClassifier\n",
    "# from sklearn.model_selection import GridSearchCV\n",
    "\n",
    "import matplotlib.pyplot as plt\n",
    "import seaborn as sns\n",
    "\n",
    "%matplotlib inline "
   ]
  },
  {
   "cell_type": "code",
   "execution_count": 2,
   "metadata": {},
   "outputs": [
    {
     "data": {
      "text/plain": [
       "['test_df_block13_open26.csv',\n",
       " 'test_df_block13_open52.csv',\n",
       " 'test_df_block13_open78.csv',\n",
       " 'test_df_block26_open26.csv',\n",
       " 'test_df_block26_open52.csv',\n",
       " 'test_df_block26_open78.csv',\n",
       " 'test_df_block52_open26.csv',\n",
       " 'test_df_block52_open52.csv',\n",
       " 'test_df_block52_open78.csv',\n",
       " 'train_df_block13_open26.csv',\n",
       " 'train_df_block13_open52.csv',\n",
       " 'train_df_block13_open78.csv',\n",
       " 'train_df_block26_open26.csv',\n",
       " 'train_df_block26_open52.csv',\n",
       " 'train_df_block26_open78.csv',\n",
       " 'train_df_block52_open26.csv',\n",
       " 'train_df_block52_open52.csv',\n",
       " 'train_df_block52_open78.csv']"
      ]
     },
     "execution_count": 2,
     "metadata": {},
     "output_type": "execute_result"
    }
   ],
   "source": [
    "files = [f for f in listdir('./') if '.csv' in f]\n",
    "files"
   ]
  },
  {
   "cell_type": "code",
   "execution_count": 3,
   "metadata": {
    "collapsed": true
   },
   "outputs": [],
   "source": [
    "train_df_block13_open26 = pd.read_csv('./train_df_block13_open26.csv')\n",
    "test_df_block13_open26 = pd.read_csv('./test_df_block13_open26.csv')"
   ]
  },
  {
   "cell_type": "code",
   "execution_count": 4,
   "metadata": {
    "collapsed": true
   },
   "outputs": [],
   "source": [
    "total_df = train_df_block13_open26.append(test_df_block13_open26, ignore_index=True)"
   ]
  },
  {
   "cell_type": "code",
   "execution_count": 5,
   "metadata": {},
   "outputs": [
    {
     "name": "stdout",
     "output_type": "stream",
     "text": [
      "0 id:  0\n",
      "1 name:  0\n",
      "2 Claimed?:  0\n",
      "3 HasWebsite:  0\n",
      "4 first_review:  0\n",
      "5 last_review:  0\n",
      "6 permanently_closed:  0\n",
      "7 1_star:  0\n",
      "8 2_star:  0\n",
      "9 3_star:  0\n",
      "10 4_star:  0\n",
      "11 5_star:  0\n",
      "12 AvgLast_compound:  99\n",
      "13 AvgLast_star:  99\n",
      "14 AvgLast_subjectivity:  99\n",
      "15 Last_compound_coef:  0\n",
      "16 Last_compound_intrcpt:  99\n",
      "17 Last_star_coef:  0\n",
      "18 Last_star_intrcpt:  99\n",
      "19 Last_subjectivity_coef:  0\n",
      "20 Last_subjectivity_intrcpt:  99\n",
      "21 avg_reviews:  21\n",
      "22 avg_star:  21\n",
      "23 Brazilian:  0\n",
      "24 Creperies:  0\n",
      "25 Sandwiches:  0\n",
      "26 Breakfast & Brunch:  0\n",
      "27 Mexican:  0\n",
      "28 Tex-Mex:  0\n",
      "29 Pubs:  0\n",
      "30 American (Traditional):  0\n",
      "31 Seafood:  0\n",
      "32 Modern European:  0\n",
      "33 American (New):  0\n",
      "34 Mediterranean:  0\n",
      "35 Cuban:  0\n",
      "36 Smokehouse:  0\n",
      "37 Tapas Bars:  0\n",
      "38 Restaurants:  0\n",
      "39 Pizza:  0\n",
      "40 Italian:  0\n",
      "41 Greek:  0\n",
      "42 Moroccan:  0\n",
      "43 Bars:  0\n",
      "44 Coffee & Tea:  0\n",
      "45 Thai:  0\n",
      "46 Sushi Bars:  0\n",
      "47 Diners:  0\n",
      "48 Juice Bars & Smoothies:  0\n",
      "49 Indian:  0\n",
      "50 Pakistani:  0\n",
      "51 Japanese:  0\n",
      "52 Lounges:  0\n",
      "53 Caterers:  0\n",
      "54 Indonesian:  0\n",
      "55 Beer:  0\n",
      "56 Wine & Spirits:  0\n",
      "57 Delis:  0\n",
      "58 Asian Fusion:  0\n",
      "59 Vietnamese:  0\n",
      "60 Filipino:  0\n",
      "61 German:  0\n",
      "62 Burgers:  0\n",
      "63 Cocktail Bars:  0\n",
      "64 Hot Dogs:  0\n",
      "65 Grocery:  0\n",
      "66 Bakeries:  0\n",
      "67 Chinese:  0\n",
      "68 Noodles:  0\n",
      "69 Gluten-Free:  0\n",
      "70 Korean:  0\n",
      "71 Salad:  0\n",
      "72 Latin American:  0\n",
      "73 French:  0\n",
      "74 Cafes:  0\n",
      "75 Ice Cream & Frozen Yogurt:  0\n",
      "76 Steakhouses:  0\n",
      "77 Beer Bar:  0\n",
      "78 Venues & Event Spaces:  0\n",
      "79 Fish & Chips:  0\n",
      "80 Scottish:  0\n",
      "81 Argentine:  0\n",
      "82 Comfort Food:  0\n",
      "83 Vegetarian:  0\n",
      "84 Polish:  0\n",
      "85 Sports Bars:  0\n",
      "86 Wine Bars:  0\n",
      "87 Gastropubs:  0\n",
      "88 Jazz & Blues:  0\n",
      "89 Irish:  0\n",
      "90 Irish Pub:  0\n",
      "91 Vegan:  0\n",
      "92 Middle Eastern:  0\n",
      "93 Donuts:  0\n",
      "94 Russian:  0\n",
      "95 Turkish:  0\n",
      "96 Ramen:  0\n",
      "97 Southern:  0\n",
      "98 Tapas/Small Plates:  0\n",
      "99 Peruvian:  0\n",
      "100 Fast Food:  0\n",
      "101 Buffets:  0\n",
      "102 Chicken Wings:  0\n",
      "103 Austrian:  0\n",
      "104 Puerto Rican:  0\n",
      "105 Desserts:  0\n",
      "106 Spanish:  0\n",
      "107 Beer Gardens:  0\n",
      "108 Ethiopian:  0\n",
      "109 Halal:  0\n",
      "110 Food Stands:  0\n",
      "111 British:  0\n",
      "112 Cajun/Creole:  0\n",
      "113 Music Venues:  0\n",
      "114 Karaoke:  0\n",
      "115 Barbeque:  0\n",
      "116 Belgian:  0\n",
      "117 Chicken Shop:  0\n",
      "118 Pool Halls:  0\n",
      "119 Adult Entertainment:  0\n",
      "120 Caribbean:  0\n",
      "121 Scandinavian:  0\n",
      "122 Dive Bars:  0\n",
      "123 Dim Sum:  0\n",
      "124 Cantonese:  0\n",
      "125 Food Trucks:  0\n",
      "126 Ukrainian:  0\n",
      "127 Community Service/Non-Profit:  0\n",
      "128 Live/Raw Food:  0\n",
      "129 Colombian:  0\n",
      "130 Persian/Iranian:  0\n",
      "131 Nightlife:  0\n",
      "132 Dance Clubs:  0\n",
      "133 Fondue:  0\n",
      "134 Pasta Shops:  0\n",
      "135 Butcher:  0\n",
      "136 Soup:  0\n",
      "137 Breweries:  0\n",
      "138 Hawaiian:  0\n",
      "139 Pop-up Shops:  0\n",
      "140 Basque:  0\n",
      "141 Szechuan:  0\n",
      "142 Bagels:  0\n",
      "143 Himalayan/Nepalese:  0\n",
      "144 Falafel:  0\n",
      "145 Shanghainese:  0\n",
      "146 Soul Food:  0\n",
      "147 Chocolatiers & Shops:  0\n",
      "148 Bubble Tea:  0\n",
      "149 Near West Side:  0\n",
      "150 River West:  0\n",
      "151 Noble Square:  0\n",
      "152 West Town:  0\n",
      "153 Near North Side:  0\n",
      "154 Lincoln Park:  0\n",
      "155 Irving Park:  0\n",
      "156 Logan Square:  0\n",
      "157 Bucktown:  0\n",
      "158 Near Southside:  0\n",
      "159 Avondale:  0\n",
      "160 Andersonville:  0\n",
      "161 Edgewater:  0\n",
      "162 Lakeview:  0\n",
      "163 Old Town:  0\n",
      "164 West Rogers Park:  0\n",
      "165 Uptown:  0\n",
      "166 West Loop:  0\n",
      "167 River North:  0\n",
      "168 Humboldt Park:  0\n",
      "169 DePaul:  0\n",
      "170 Edison Park:  0\n",
      "171 The Loop:  0\n",
      "172 Ravenswood:  0\n",
      "173 Lincoln Square:  0\n",
      "174 Pilsen:  0\n",
      "175 Wicker Park:  0\n",
      "176 Greektown:  0\n",
      "177 Chinatown:  0\n",
      "178 Bridgeport:  0\n",
      "179 Portage Park:  0\n",
      "180 River East:  0\n",
      "181 Roscoe Village:  0\n",
      "182 North Center:  0\n",
      "183 University Village:  0\n",
      "184 Rogers Park:  0\n",
      "185 Cragin:  0\n",
      "186 Gold Coast:  0\n",
      "187 Ukrainian Village:  0\n",
      "188 Forest Glen:  0\n",
      "189 Albany Park:  0\n",
      "190 Garfield Ridge:  0\n",
      "191 Wrigleyville:  0\n",
      "192 South Loop:  0\n",
      "193 Fulton Market:  0\n",
      "194 Streeterville:  0\n",
      "195 Printer's Row:  0\n",
      "196 East Garfield Park:  0\n",
      "197 Hermosa:  0\n",
      "198 Goose Island:  0\n",
      "199 Little Village:  0\n",
      "200 $11-30:  0\n",
      "201 Moderate:  0\n",
      "202 Under $10:  0\n",
      "203 $31-60:  0\n",
      "204 Inexpensive:  0\n",
      "205 Above $61:  0\n",
      "206 Pricey:  0\n",
      "207 Accepts Credit Cards:  0\n",
      "208 Good for Groups:  0\n",
      "209 Good for Kids:  0\n",
      "210 Takes Reservations:  0\n",
      "211 Outdoor Seating:  0\n",
      "212 Take-out:  0\n",
      "213 Delivery:  0\n",
      "214 Has TV:  0\n",
      "215 Attire_Dressy:  0\n",
      "216 Attire_Casual:  0\n",
      "217 Parking_Valet:  0\n",
      "218 Parking_Garage:  0\n",
      "219 Parking_Street:  0\n",
      "220 Parking_Validated:  0\n",
      "221 Alcohol_Full Bar:  0\n",
      "222 Alcohol_No:  0\n",
      "223 Noise Level_Loud:  0\n",
      "224 Noise Level_Quite:  0\n",
      "225 Noise Level_Average:  0\n",
      "226 Wi-Fi_No:  0\n",
      "227 Wi-Fi_Free:  0\n"
     ]
    }
   ],
   "source": [
    "for i, c in enumerate(total_df.columns):\n",
    "    print(i, c + ': ', total_df[c].isnull().sum())"
   ]
  },
  {
   "cell_type": "markdown",
   "metadata": {},
   "source": [
    "# Baseline in whole data set"
   ]
  },
  {
   "cell_type": "code",
   "execution_count": 6,
   "metadata": {
    "collapsed": true
   },
   "outputs": [],
   "source": [
    "closed = total_df[total_df['permanently_closed'] == 1].copy()\n",
    "opened = total_df[total_df['permanently_closed'] == 0].copy()"
   ]
  },
  {
   "cell_type": "code",
   "execution_count": 7,
   "metadata": {},
   "outputs": [
    {
     "data": {
      "text/plain": [
       "(303, 228)"
      ]
     },
     "execution_count": 7,
     "metadata": {},
     "output_type": "execute_result"
    }
   ],
   "source": [
    "closed.shape"
   ]
  },
  {
   "cell_type": "code",
   "execution_count": 8,
   "metadata": {},
   "outputs": [
    {
     "data": {
      "text/plain": [
       "(849, 228)"
      ]
     },
     "execution_count": 8,
     "metadata": {},
     "output_type": "execute_result"
    }
   ],
   "source": [
    "opened.shape"
   ]
  },
  {
   "cell_type": "code",
   "execution_count": 113,
   "metadata": {},
   "outputs": [
    {
     "data": {
      "text/plain": [
       "0.7369791666666666"
      ]
     },
     "execution_count": 113,
     "metadata": {},
     "output_type": "execute_result"
    }
   ],
   "source": [
    "849/(303+849)"
   ]
  },
  {
   "cell_type": "markdown",
   "metadata": {},
   "source": [
    "# Baseline in test set"
   ]
  },
  {
   "cell_type": "code",
   "execution_count": 9,
   "metadata": {},
   "outputs": [
    {
     "data": {
      "text/plain": [
       "(78, 228)"
      ]
     },
     "execution_count": 9,
     "metadata": {},
     "output_type": "execute_result"
    }
   ],
   "source": [
    "test_df_block13_open26[test_df_block13_open26['permanently_closed'] == 1].shape"
   ]
  },
  {
   "cell_type": "code",
   "execution_count": 10,
   "metadata": {},
   "outputs": [
    {
     "data": {
      "text/plain": [
       "(210, 228)"
      ]
     },
     "execution_count": 10,
     "metadata": {},
     "output_type": "execute_result"
    }
   ],
   "source": [
    "test_df_block13_open26[test_df_block13_open26['permanently_closed'] == 0].shape"
   ]
  },
  {
   "cell_type": "code",
   "execution_count": 11,
   "metadata": {},
   "outputs": [
    {
     "data": {
      "text/plain": [
       "0.7291666666666666"
      ]
     },
     "execution_count": 11,
     "metadata": {},
     "output_type": "execute_result"
    }
   ],
   "source": [
    "210/(210+78)"
   ]
  },
  {
   "cell_type": "markdown",
   "metadata": {},
   "source": [
    "# Prcie range distribution for closed and open restaurants in training set"
   ]
  },
  {
   "cell_type": "code",
   "execution_count": 96,
   "metadata": {},
   "outputs": [
    {
     "name": "stdout",
     "output_type": "stream",
     "text": [
      "\t\tclosed\topened\n",
      "Under $10: \t 23 \t 239\n",
      "$11-30: \t 167 \t 481\n",
      "$31-60: \t 76 \t 82\n",
      "Above $61: \t 12 \t 17\n",
      "Inexpensive: \t 4 \t 2\n",
      "Moderate: \t 11 \t 9\n",
      "Pricey: \t 2 \t 2\n"
     ]
    }
   ],
   "source": [
    "print('\\t\\tclosed\\t' + 'opened')\n",
    "for price_range in ['Under $10', '$11-30', '$31-60', 'Above $61', 'Inexpensive', 'Moderate', 'Pricey']:\n",
    "    print(price_range+': \\t', closed[price_range].sum(), '\\t', opened[price_range].sum())"
   ]
  },
  {
   "cell_type": "markdown",
   "metadata": {},
   "source": [
    "# Top 10 categories in closed restaurants"
   ]
  },
  {
   "cell_type": "code",
   "execution_count": 97,
   "metadata": {
    "scrolled": true
   },
   "outputs": [
    {
     "data": {
      "text/plain": [
       "American (New)            79\n",
       "Bars                      66\n",
       "Italian                   42\n",
       "Breakfast & Brunch        23\n",
       "American (Traditional)    22\n",
       "French                    18\n",
       "Sushi Bars                18\n",
       "Japanese                  16\n",
       "Pizza                     15\n",
       "Mexican                   15\n",
       "dtype: int64"
      ]
     },
     "execution_count": 97,
     "metadata": {},
     "output_type": "execute_result"
    }
   ],
   "source": [
    "closed.iloc[:,23:149].sum().sort_values(ascending=False)[:10]"
   ]
  },
  {
   "cell_type": "markdown",
   "metadata": {},
   "source": [
    "# Top 10 categories in open restaurants"
   ]
  },
  {
   "cell_type": "code",
   "execution_count": 98,
   "metadata": {},
   "outputs": [
    {
     "data": {
      "text/plain": [
       "Bars                      164\n",
       "Breakfast & Brunch        121\n",
       "American (Traditional)    113\n",
       "Italian                    88\n",
       "Sandwiches                 85\n",
       "American (New)             83\n",
       "Mexican                    80\n",
       "Pizza                      65\n",
       "Burgers                    56\n",
       "Steakhouses                44\n",
       "dtype: int64"
      ]
     },
     "execution_count": 98,
     "metadata": {},
     "output_type": "execute_result"
    }
   ],
   "source": [
    "opened.iloc[:,23:149].sum().sort_values(ascending=False)[:10]"
   ]
  },
  {
   "cell_type": "markdown",
   "metadata": {},
   "source": [
    "# Top 10 neighborhoods in closed restaurants"
   ]
  },
  {
   "cell_type": "code",
   "execution_count": 99,
   "metadata": {},
   "outputs": [
    {
     "data": {
      "text/plain": [
       "Near North Side    80\n",
       "Lakeview           40\n",
       "West Town          37\n",
       "Lincoln Park       30\n",
       "River North        27\n",
       "Wicker Park        24\n",
       "Near West Side     22\n",
       "West Loop          21\n",
       "DePaul             19\n",
       "Logan Square       12\n",
       "dtype: int64"
      ]
     },
     "execution_count": 99,
     "metadata": {},
     "output_type": "execute_result"
    }
   ],
   "source": [
    "closed.iloc[:,149:200].sum().sort_values(ascending=False)[:10]"
   ]
  },
  {
   "cell_type": "code",
   "execution_count": 15,
   "metadata": {},
   "outputs": [
    {
     "data": {
      "text/plain": [
       "80"
      ]
     },
     "execution_count": 15,
     "metadata": {},
     "output_type": "execute_result"
    }
   ],
   "source": [
    "NH_closed = closed.iloc[:,149:200].sum().sort_values(ascending=False)[:10]"
   ]
  },
  {
   "cell_type": "markdown",
   "metadata": {},
   "source": [
    "# Top 10 neighborhoods in open restaurants"
   ]
  },
  {
   "cell_type": "code",
   "execution_count": 100,
   "metadata": {},
   "outputs": [
    {
     "data": {
      "text/plain": [
       "Near North Side    151\n",
       "West Town          103\n",
       "Lakeview            85\n",
       "Lincoln Park        83\n",
       "Near West Side      66\n",
       "West Loop           55\n",
       "The Loop            52\n",
       "Wicker Park         42\n",
       "Edgewater           42\n",
       "DePaul              42\n",
       "dtype: int64"
      ]
     },
     "execution_count": 100,
     "metadata": {},
     "output_type": "execute_result"
    }
   ],
   "source": [
    "opened.iloc[:,149:200].sum().sort_values(ascending=False)[:10]"
   ]
  },
  {
   "cell_type": "code",
   "execution_count": 16,
   "metadata": {
    "collapsed": true
   },
   "outputs": [],
   "source": [
    "NH_open = opened.iloc[:,149:200].sum().sort_values(ascending=False)[:10]"
   ]
  },
  {
   "cell_type": "code",
   "execution_count": 24,
   "metadata": {},
   "outputs": [
    {
     "data": {
      "text/plain": [
       "12"
      ]
     },
     "execution_count": 24,
     "metadata": {},
     "output_type": "execute_result"
    }
   ],
   "source": [
    "NH = list(set(list(NH_closed.index) + list(NH_open.index)))\n",
    "len(NH)"
   ]
  },
  {
   "cell_type": "code",
   "execution_count": 42,
   "metadata": {},
   "outputs": [
    {
     "data": {
      "text/plain": [
       "['Wicker Park',\n",
       " 'Near North Side',\n",
       " 'The Loop',\n",
       " 'Logan Square',\n",
       " 'Lakeview',\n",
       " 'West Loop',\n",
       " 'River North',\n",
       " 'West Town',\n",
       " 'Edgewater',\n",
       " 'Near West Side',\n",
       " 'Lincoln Park',\n",
       " 'DePaul']"
      ]
     },
     "execution_count": 42,
     "metadata": {},
     "output_type": "execute_result"
    }
   ],
   "source": [
    "NH"
   ]
  },
  {
   "cell_type": "code",
   "execution_count": 111,
   "metadata": {},
   "outputs": [
    {
     "data": {
      "image/png": "[encoded data removed]",
      "text/plain": [
       "<matplotlib.figure.Figure at 0x11a230080>"
      ]
     },
     "metadata": {},
     "output_type": "display_data"
    }
   ],
   "source": [
    "import numpy as np\n",
    "import matplotlib.pyplot as plt\n",
    "%matplotlib inline\n",
    "\n",
    "number_NH = len(NH)\n",
    "Dict = {'NH':NH, 'Open':[], 'Closed':[], 'Total':[]}\n",
    "\n",
    "for N in NH:\n",
    "    Dict['Open'].append(opened[N].sum()) \n",
    "    Dict['Closed'].append(closed[N].sum())\n",
    "    Dict['Total'].append(opened[N].sum()+closed[N].sum())\n",
    "Dist = pd.DataFrame(Dict).sort_values(by='Total', ascending=False)\n",
    "\n",
    "ind = np.arange(len(NH))    # the x locations for the groups\n",
    "width = 0.35       # the width of the bars: can also be len(x) sequence\n",
    "\n",
    "plt.figure(figsize=(20,10))\n",
    "p1 = plt.bar(ind, list(Dist['Closed']), width, color='#d62728', bottom=list(Dist['Open']))\n",
    "p2 = plt.bar(ind, list(Dist['Open']), width)\n",
    "\n",
    "plt.ylabel('Counts', fontsize=20)\n",
    "plt.xticks(ind, list(Dist['NH']), fontsize=18, rotation=17)\n",
    "plt.yticks(np.arange(0, 251, 50), fontsize=18)\n",
    "plt.legend((p1[0], p2[0]), ('Closed', 'Open'), fontsize=20)\n",
    "plt.savefig('NH.jpg')"
   ]
  },
  {
   "cell_type": "code",
   "execution_count": 101,
   "metadata": {
    "collapsed": true
   },
   "outputs": [],
   "source": [
    "wanted = [\n",
    "'Claimed?',\n",
    "'HasWebsite',\n",
    "'1_star',\n",
    "'2_star',\n",
    "'3_star',\n",
    "'4_star',\n",
    "'5_star',\n",
    "'AvgLast_compound',\n",
    "'AvgLast_star',\n",
    "'AvgLast_subjectivity',\n",
    "'Last_compound_coef',\n",
    "'Last_compound_intrcpt',\n",
    "'Last_star_coef',\n",
    "'Last_star_intrcpt',\n",
    "'Last_subjectivity_coef',\n",
    "'Last_subjectivity_intrcpt',\n",
    "'avg_reviews',\n",
    "'avg_star', \n",
    "'Under $10', \n",
    "'$11-30', \n",
    "'$31-60', \n",
    "'Above $61', \n",
    "'Inexpensive',\n",
    "'Moderate', \n",
    "'Pricey'\n",
    "]"
   ]
  },
  {
   "cell_type": "code",
   "execution_count": 102,
   "metadata": {
    "collapsed": true
   },
   "outputs": [],
   "source": [
    "select_df = total_df[wanted + ['permanently_closed']]"
   ]
  },
  {
   "cell_type": "code",
   "execution_count": 103,
   "metadata": {},
   "outputs": [
    {
     "data": {
      "text/plain": [
       "<matplotlib.axes._subplots.AxesSubplot at 0x1237de2b0>"
      ]
     },
     "execution_count": 103,
     "metadata": {},
     "output_type": "execute_result"
    },
    {
     "data": {
      "image/png": "[encoded data removed]",
      "text/plain": [
       "<matplotlib.figure.Figure at 0x1237c9b00>"
      ]
     },
     "metadata": {},
     "output_type": "display_data"
    }
   ],
   "source": [
    "plt.figure(figsize=(16,12))\n",
    "sns.heatmap(select_df.corr())"
   ]
  }
 ],
 "metadata": {
  "kernelspec": {
   "display_name": "Python 3",
   "language": "python",
   "name": "python3"
  },
  "language_info": {
   "codemirror_mode": {
    "name": "ipython",
    "version": 3
   },
   "file_extension": ".py",
   "mimetype": "text/x-python",
   "name": "python",
   "nbconvert_exporter": "python",
   "pygments_lexer": "ipython3",
   "version": "3.6.1"
  }
 },
 "nbformat": 4,
 "nbformat_minor": 2
}
